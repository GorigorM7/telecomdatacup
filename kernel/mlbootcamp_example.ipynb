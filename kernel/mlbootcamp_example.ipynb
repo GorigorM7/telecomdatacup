{
 "cells": [
  {
   "cell_type": "markdown",
   "metadata": {},
   "source": [
    "## Импорт библиотек"
   ]
  },
  {
   "cell_type": "code",
   "execution_count": 1,
   "metadata": {
    "ExecuteTime": {
     "end_time": "2018-12-25T09:48:17.178527Z",
     "start_time": "2018-12-25T09:48:15.572259Z"
    },
    "collapsed": true
   },
   "outputs": [],
   "source": [
    "import numpy as np\n",
    "import pandas as pd\n",
    "\n",
    "import os\n",
    "import sys\n",
    "\n",
    "from matplotlib import pyplot as plt\n",
    "import seaborn as sns\n",
    "\n",
    "import matplotlib as mpl\n",
    "mpl.font_manager.rcParams['font.family'] = 'DejaVu Sans'\n",
    "\n",
    "%matplotlib inline"
   ]
  },
  {
   "cell_type": "markdown",
   "metadata": {},
   "source": [
    "## Загрузка данных"
   ]
  },
  {
   "cell_type": "code",
   "execution_count": 2,
   "metadata": {
    "ExecuteTime": {
     "end_time": "2018-12-25T09:48:20.528704Z",
     "start_time": "2018-12-25T09:48:20.525764Z"
    },
    "collapsed": true
   },
   "outputs": [],
   "source": [
    "PATH = os.path.expanduser(\"~/data/hackathon/sql/train-test3\")"
   ]
  },
  {
   "cell_type": "markdown",
   "metadata": {},
   "source": [
    "Сначала загрузим небольшой кусок даннных, чтобы посмотреть на структуру."
   ]
  },
  {
   "cell_type": "code",
   "execution_count": 3,
   "metadata": {
    "ExecuteTime": {
     "end_time": "2018-12-25T09:48:23.233159Z",
     "start_time": "2018-12-25T09:48:23.195844Z"
    },
    "collapsed": true
   },
   "outputs": [],
   "source": [
    "bs_avg_kpi = pd.read_csv(os.path.join(PATH, 'bs_avg_kpi.csv'), sep=';', decimal=',', nrows=10)"
   ]
  },
  {
   "cell_type": "code",
   "execution_count": 4,
   "metadata": {
    "ExecuteTime": {
     "end_time": "2018-12-25T09:48:24.466965Z",
     "start_time": "2018-12-25T09:48:24.440449Z"
    }
   },
   "outputs": [
    {
     "name": "stdout",
     "output_type": "stream",
     "text": [
      "<class 'pandas.core.frame.DataFrame'>\n",
      "RangeIndex: 10 entries, 0 to 9\n",
      "Data columns (total 44 columns):\n",
      "T_DATE                            10 non-null object\n",
      "CELL_LAC_ID                       10 non-null int64\n",
      "CELL_AVAILABILITY_2G              10 non-null int64\n",
      "CELL_AVAILABILITY_3G              10 non-null int64\n",
      "CELL_AVAILABILITY_4G              10 non-null float64\n",
      "CSSR_2G                           10 non-null float64\n",
      "CSSR_3G                           0 non-null float64\n",
      "ERAB_PS_BLOCKING_RATE_LTE         0 non-null float64\n",
      "ERAB_PS_BLOCKING_RATE_PLMN_LTE    0 non-null float64\n",
      "ERAB_PS_DROP_RATE_LTE             0 non-null float64\n",
      "HSPDSCH_CODE_UTIL_3G              0 non-null float64\n",
      "NODEB_CNBAP_LOAD_HARDWARE         0 non-null float64\n",
      "PART_CQI_QPSK_LTE                 0 non-null float64\n",
      "PART_MCS_QPSK_LTE                 0 non-null float64\n",
      "PROC_LOAD_3G                      0 non-null float64\n",
      "PSSR_2G                           0 non-null float64\n",
      "PSSR_3G                           0 non-null float64\n",
      "PSSR_LTE                          0 non-null float64\n",
      "RAB_CS_BLOCKING_RATE_3G           0 non-null float64\n",
      "RAB_CS_DROP_RATE_3G               0 non-null float64\n",
      "RAB_PS_BLOCKING_RATE_3G           0 non-null float64\n",
      "RAB_PS_DROP_RATE_3G               0 non-null float64\n",
      "RBU_AVAIL_DL                      0 non-null float64\n",
      "RBU_AVAIL_DL_LTE                  0 non-null float64\n",
      "RBU_AVAIL_UL                      0 non-null float64\n",
      "RBU_OTHER_DL                      0 non-null float64\n",
      "RBU_OTHER_UL                      0 non-null float64\n",
      "RBU_OWN_DL                        0 non-null float64\n",
      "RBU_OWN_UL                        0 non-null float64\n",
      "RRC_BLOCKING_RATE_3G              0 non-null float64\n",
      "RRC_BLOCKING_RATE_LTE             0 non-null float64\n",
      "RTWP_3G                           0 non-null float64\n",
      "SHO_FACTOR                        0 non-null float64\n",
      "TBF_DROP_RATE_2G                  10 non-null float64\n",
      "TCH_DROP_RATE_2G                  8 non-null float64\n",
      "UTIL_BRD_CPU_3G                   0 non-null float64\n",
      "UTIL_CE_DL_3G                     0 non-null float64\n",
      "UTIL_CE_HW_DL_3G                  0 non-null float64\n",
      "UTIL_CE_UL_3G                     0 non-null float64\n",
      "UTIL_SUBUNITS_3G                  0 non-null float64\n",
      "UL_VOLUME_LTE                     0 non-null float64\n",
      "DL_VOLUME_LTE                     0 non-null float64\n",
      "TOTAL_DL_VOLUME_3G                0 non-null float64\n",
      "TOTAL_UL_VOLUME_3G                0 non-null float64\n",
      "dtypes: float64(40), int64(3), object(1)\n",
      "memory usage: 3.5+ KB\n"
     ]
    }
   ],
   "source": [
    "bs_avg_kpi.info()"
   ]
  },
  {
   "cell_type": "code",
   "execution_count": 5,
   "metadata": {
    "ExecuteTime": {
     "end_time": "2018-12-25T09:48:28.025857Z",
     "start_time": "2018-12-25T09:48:27.996640Z"
    }
   },
   "outputs": [
    {
     "data": {
      "text/html": [
       "<div>\n",
       "<style>\n",
       "    .dataframe thead tr:only-child th {\n",
       "        text-align: right;\n",
       "    }\n",
       "\n",
       "    .dataframe thead th {\n",
       "        text-align: left;\n",
       "    }\n",
       "\n",
       "    .dataframe tbody tr th {\n",
       "        vertical-align: top;\n",
       "    }\n",
       "</style>\n",
       "<table border=\"1\" class=\"dataframe\">\n",
       "  <thead>\n",
       "    <tr style=\"text-align: right;\">\n",
       "      <th></th>\n",
       "      <th>T_DATE</th>\n",
       "      <th>CELL_LAC_ID</th>\n",
       "      <th>CELL_AVAILABILITY_2G</th>\n",
       "      <th>CELL_AVAILABILITY_3G</th>\n",
       "      <th>CELL_AVAILABILITY_4G</th>\n",
       "      <th>CSSR_2G</th>\n",
       "      <th>CSSR_3G</th>\n",
       "      <th>ERAB_PS_BLOCKING_RATE_LTE</th>\n",
       "      <th>ERAB_PS_BLOCKING_RATE_PLMN_LTE</th>\n",
       "      <th>ERAB_PS_DROP_RATE_LTE</th>\n",
       "      <th>...</th>\n",
       "      <th>TCH_DROP_RATE_2G</th>\n",
       "      <th>UTIL_BRD_CPU_3G</th>\n",
       "      <th>UTIL_CE_DL_3G</th>\n",
       "      <th>UTIL_CE_HW_DL_3G</th>\n",
       "      <th>UTIL_CE_UL_3G</th>\n",
       "      <th>UTIL_SUBUNITS_3G</th>\n",
       "      <th>UL_VOLUME_LTE</th>\n",
       "      <th>DL_VOLUME_LTE</th>\n",
       "      <th>TOTAL_DL_VOLUME_3G</th>\n",
       "      <th>TOTAL_UL_VOLUME_3G</th>\n",
       "    </tr>\n",
       "  </thead>\n",
       "  <tbody>\n",
       "    <tr>\n",
       "      <th>0</th>\n",
       "      <td>01.01</td>\n",
       "      <td>275453</td>\n",
       "      <td>1</td>\n",
       "      <td>1</td>\n",
       "      <td>0.02774</td>\n",
       "      <td>0.932420</td>\n",
       "      <td>NaN</td>\n",
       "      <td>NaN</td>\n",
       "      <td>NaN</td>\n",
       "      <td>NaN</td>\n",
       "      <td>...</td>\n",
       "      <td>0.000377</td>\n",
       "      <td>NaN</td>\n",
       "      <td>NaN</td>\n",
       "      <td>NaN</td>\n",
       "      <td>NaN</td>\n",
       "      <td>NaN</td>\n",
       "      <td>NaN</td>\n",
       "      <td>NaN</td>\n",
       "      <td>NaN</td>\n",
       "      <td>NaN</td>\n",
       "    </tr>\n",
       "    <tr>\n",
       "      <th>1</th>\n",
       "      <td>01.01</td>\n",
       "      <td>75331</td>\n",
       "      <td>1</td>\n",
       "      <td>1</td>\n",
       "      <td>0.02774</td>\n",
       "      <td>0.920801</td>\n",
       "      <td>NaN</td>\n",
       "      <td>NaN</td>\n",
       "      <td>NaN</td>\n",
       "      <td>NaN</td>\n",
       "      <td>...</td>\n",
       "      <td>0.000620</td>\n",
       "      <td>NaN</td>\n",
       "      <td>NaN</td>\n",
       "      <td>NaN</td>\n",
       "      <td>NaN</td>\n",
       "      <td>NaN</td>\n",
       "      <td>NaN</td>\n",
       "      <td>NaN</td>\n",
       "      <td>NaN</td>\n",
       "      <td>NaN</td>\n",
       "    </tr>\n",
       "    <tr>\n",
       "      <th>2</th>\n",
       "      <td>01.01</td>\n",
       "      <td>372021</td>\n",
       "      <td>1</td>\n",
       "      <td>1</td>\n",
       "      <td>0.02774</td>\n",
       "      <td>0.929026</td>\n",
       "      <td>NaN</td>\n",
       "      <td>NaN</td>\n",
       "      <td>NaN</td>\n",
       "      <td>NaN</td>\n",
       "      <td>...</td>\n",
       "      <td>0.000354</td>\n",
       "      <td>NaN</td>\n",
       "      <td>NaN</td>\n",
       "      <td>NaN</td>\n",
       "      <td>NaN</td>\n",
       "      <td>NaN</td>\n",
       "      <td>NaN</td>\n",
       "      <td>NaN</td>\n",
       "      <td>NaN</td>\n",
       "      <td>NaN</td>\n",
       "    </tr>\n",
       "    <tr>\n",
       "      <th>3</th>\n",
       "      <td>01.01</td>\n",
       "      <td>383252</td>\n",
       "      <td>1</td>\n",
       "      <td>1</td>\n",
       "      <td>0.02774</td>\n",
       "      <td>0.923729</td>\n",
       "      <td>NaN</td>\n",
       "      <td>NaN</td>\n",
       "      <td>NaN</td>\n",
       "      <td>NaN</td>\n",
       "      <td>...</td>\n",
       "      <td>0.000587</td>\n",
       "      <td>NaN</td>\n",
       "      <td>NaN</td>\n",
       "      <td>NaN</td>\n",
       "      <td>NaN</td>\n",
       "      <td>NaN</td>\n",
       "      <td>NaN</td>\n",
       "      <td>NaN</td>\n",
       "      <td>NaN</td>\n",
       "      <td>NaN</td>\n",
       "    </tr>\n",
       "    <tr>\n",
       "      <th>4</th>\n",
       "      <td>01.01</td>\n",
       "      <td>80247</td>\n",
       "      <td>1</td>\n",
       "      <td>1</td>\n",
       "      <td>0.02774</td>\n",
       "      <td>0.924741</td>\n",
       "      <td>NaN</td>\n",
       "      <td>NaN</td>\n",
       "      <td>NaN</td>\n",
       "      <td>NaN</td>\n",
       "      <td>...</td>\n",
       "      <td>0.000325</td>\n",
       "      <td>NaN</td>\n",
       "      <td>NaN</td>\n",
       "      <td>NaN</td>\n",
       "      <td>NaN</td>\n",
       "      <td>NaN</td>\n",
       "      <td>NaN</td>\n",
       "      <td>NaN</td>\n",
       "      <td>NaN</td>\n",
       "      <td>NaN</td>\n",
       "    </tr>\n",
       "  </tbody>\n",
       "</table>\n",
       "<p>5 rows × 44 columns</p>\n",
       "</div>"
      ],
      "text/plain": [
       "  T_DATE  CELL_LAC_ID  CELL_AVAILABILITY_2G  CELL_AVAILABILITY_3G  \\\n",
       "0  01.01       275453                     1                     1   \n",
       "1  01.01        75331                     1                     1   \n",
       "2  01.01       372021                     1                     1   \n",
       "3  01.01       383252                     1                     1   \n",
       "4  01.01        80247                     1                     1   \n",
       "\n",
       "   CELL_AVAILABILITY_4G   CSSR_2G  CSSR_3G  ERAB_PS_BLOCKING_RATE_LTE  \\\n",
       "0               0.02774  0.932420      NaN                        NaN   \n",
       "1               0.02774  0.920801      NaN                        NaN   \n",
       "2               0.02774  0.929026      NaN                        NaN   \n",
       "3               0.02774  0.923729      NaN                        NaN   \n",
       "4               0.02774  0.924741      NaN                        NaN   \n",
       "\n",
       "   ERAB_PS_BLOCKING_RATE_PLMN_LTE  ERAB_PS_DROP_RATE_LTE         ...          \\\n",
       "0                             NaN                    NaN         ...           \n",
       "1                             NaN                    NaN         ...           \n",
       "2                             NaN                    NaN         ...           \n",
       "3                             NaN                    NaN         ...           \n",
       "4                             NaN                    NaN         ...           \n",
       "\n",
       "   TCH_DROP_RATE_2G  UTIL_BRD_CPU_3G  UTIL_CE_DL_3G  UTIL_CE_HW_DL_3G  \\\n",
       "0          0.000377              NaN            NaN               NaN   \n",
       "1          0.000620              NaN            NaN               NaN   \n",
       "2          0.000354              NaN            NaN               NaN   \n",
       "3          0.000587              NaN            NaN               NaN   \n",
       "4          0.000325              NaN            NaN               NaN   \n",
       "\n",
       "   UTIL_CE_UL_3G  UTIL_SUBUNITS_3G  UL_VOLUME_LTE  DL_VOLUME_LTE  \\\n",
       "0            NaN               NaN            NaN            NaN   \n",
       "1            NaN               NaN            NaN            NaN   \n",
       "2            NaN               NaN            NaN            NaN   \n",
       "3            NaN               NaN            NaN            NaN   \n",
       "4            NaN               NaN            NaN            NaN   \n",
       "\n",
       "   TOTAL_DL_VOLUME_3G  TOTAL_UL_VOLUME_3G  \n",
       "0                 NaN                 NaN  \n",
       "1                 NaN                 NaN  \n",
       "2                 NaN                 NaN  \n",
       "3                 NaN                 NaN  \n",
       "4                 NaN                 NaN  \n",
       "\n",
       "[5 rows x 44 columns]"
      ]
     },
     "execution_count": 5,
     "metadata": {},
     "output_type": "execute_result"
    }
   ],
   "source": [
    "bs_avg_kpi.head()"
   ]
  },
  {
   "cell_type": "code",
   "execution_count": 6,
   "metadata": {
    "ExecuteTime": {
     "end_time": "2018-12-25T09:48:29.497472Z",
     "start_time": "2018-12-25T09:48:29.492483Z"
    }
   },
   "outputs": [
    {
     "data": {
      "text/plain": [
       "Index(['T_DATE', 'CELL_LAC_ID', 'CELL_AVAILABILITY_2G', 'CELL_AVAILABILITY_3G',\n",
       "       'CELL_AVAILABILITY_4G', 'CSSR_2G', 'CSSR_3G',\n",
       "       'ERAB_PS_BLOCKING_RATE_LTE', 'ERAB_PS_BLOCKING_RATE_PLMN_LTE',\n",
       "       'ERAB_PS_DROP_RATE_LTE', 'HSPDSCH_CODE_UTIL_3G',\n",
       "       'NODEB_CNBAP_LOAD_HARDWARE', 'PART_CQI_QPSK_LTE', 'PART_MCS_QPSK_LTE',\n",
       "       'PROC_LOAD_3G', 'PSSR_2G', 'PSSR_3G', 'PSSR_LTE',\n",
       "       'RAB_CS_BLOCKING_RATE_3G', 'RAB_CS_DROP_RATE_3G',\n",
       "       'RAB_PS_BLOCKING_RATE_3G', 'RAB_PS_DROP_RATE_3G', 'RBU_AVAIL_DL',\n",
       "       'RBU_AVAIL_DL_LTE', 'RBU_AVAIL_UL', 'RBU_OTHER_DL', 'RBU_OTHER_UL',\n",
       "       'RBU_OWN_DL', 'RBU_OWN_UL', 'RRC_BLOCKING_RATE_3G',\n",
       "       'RRC_BLOCKING_RATE_LTE', 'RTWP_3G', 'SHO_FACTOR', 'TBF_DROP_RATE_2G',\n",
       "       'TCH_DROP_RATE_2G', 'UTIL_BRD_CPU_3G', 'UTIL_CE_DL_3G',\n",
       "       'UTIL_CE_HW_DL_3G', 'UTIL_CE_UL_3G', 'UTIL_SUBUNITS_3G',\n",
       "       'UL_VOLUME_LTE', 'DL_VOLUME_LTE', 'TOTAL_DL_VOLUME_3G',\n",
       "       'TOTAL_UL_VOLUME_3G'],\n",
       "      dtype='object')"
      ]
     },
     "execution_count": 6,
     "metadata": {},
     "output_type": "execute_result"
    }
   ],
   "source": [
    "bs_avg_kpi.columns"
   ]
  },
  {
   "cell_type": "markdown",
   "metadata": {},
   "source": [
    "Выделим числовые колонки."
   ]
  },
  {
   "cell_type": "code",
   "execution_count": 7,
   "metadata": {
    "ExecuteTime": {
     "end_time": "2018-12-25T09:48:33.703227Z",
     "start_time": "2018-12-25T09:48:33.696678Z"
    },
    "collapsed": true
   },
   "outputs": [],
   "source": [
    "float_columns = ['CELL_AVAILABILITY_2G', 'CELL_AVAILABILITY_3G',\n",
    "       'CELL_AVAILABILITY_4G', 'CSSR_2G', 'CSSR_3G',\n",
    "       'ERAB_PS_BLOCKING_RATE_LTE', 'ERAB_PS_BLOCKING_RATE_PLMN_LTE',\n",
    "       'ERAB_PS_DROP_RATE_LTE', 'HSPDSCH_CODE_UTIL_3G',\n",
    "       'NODEB_CNBAP_LOAD_HARDWARE', 'PART_CQI_QPSK_LTE', 'PART_MCS_QPSK_LTE',\n",
    "       'PROC_LOAD_3G', 'PSSR_2G', 'PSSR_3G', 'PSSR_LTE',\n",
    "       'RAB_CS_BLOCKING_RATE_3G', 'RAB_CS_DROP_RATE_3G',\n",
    "       'RAB_PS_BLOCKING_RATE_3G', 'RAB_PS_DROP_RATE_3G', 'RBU_AVAIL_DL',\n",
    "       'RBU_AVAIL_DL_LTE', 'RBU_AVAIL_UL', 'RBU_OTHER_DL', 'RBU_OTHER_UL',\n",
    "       'RBU_OWN_DL', 'RBU_OWN_UL', 'RRC_BLOCKING_RATE_3G',\n",
    "       'RRC_BLOCKING_RATE_LTE', 'RTWP_3G', 'SHO_FACTOR', 'TBF_DROP_RATE_2G',\n",
    "       'TCH_DROP_RATE_2G', 'UTIL_BRD_CPU_3G', 'UTIL_CE_DL_3G',\n",
    "       'UTIL_CE_HW_DL_3G', 'UTIL_CE_UL_3G', 'UTIL_SUBUNITS_3G',\n",
    "       'UL_VOLUME_LTE', 'DL_VOLUME_LTE', 'TOTAL_DL_VOLUME_3G',\n",
    "       'TOTAL_UL_VOLUME_3G']"
   ]
  },
  {
   "cell_type": "markdown",
   "metadata": {},
   "source": [
    "Для экономии памяти составим словарь типов для параметра `dtype` функции `pd.read_csv`. Числовые данные загрузим с типом `float16`, идентификатор соты - целым, дату - категорией."
   ]
  },
  {
   "cell_type": "code",
   "execution_count": 8,
   "metadata": {
    "ExecuteTime": {
     "end_time": "2018-12-25T09:48:40.576282Z",
     "start_time": "2018-12-25T09:48:40.573540Z"
    },
    "collapsed": true
   },
   "outputs": [],
   "source": [
    "dtype_dict = {'T_DATE':'category', 'CELL_LAC_ID': np.int64}"
   ]
  },
  {
   "cell_type": "code",
   "execution_count": 9,
   "metadata": {
    "ExecuteTime": {
     "end_time": "2018-12-25T09:48:41.494151Z",
     "start_time": "2018-12-25T09:48:41.491318Z"
    },
    "collapsed": true
   },
   "outputs": [],
   "source": [
    "for c in float_columns:\n",
    "    dtype_dict[c] = np.float16"
   ]
  },
  {
   "cell_type": "markdown",
   "metadata": {},
   "source": [
    "Теперь загрузим все данные."
   ]
  },
  {
   "cell_type": "code",
   "execution_count": 10,
   "metadata": {
    "ExecuteTime": {
     "end_time": "2018-12-25T09:51:33.786608Z",
     "start_time": "2018-12-25T09:48:43.470169Z"
    },
    "collapsed": true
   },
   "outputs": [],
   "source": [
    "bs_avg_kpi = pd.read_csv(os.path.join(PATH, 'bs_avg_kpi.csv'), sep=';', decimal=',', dtype=dtype_dict)"
   ]
  },
  {
   "cell_type": "code",
   "execution_count": 11,
   "metadata": {
    "ExecuteTime": {
     "end_time": "2018-12-25T09:52:22.693305Z",
     "start_time": "2018-12-25T09:52:22.671762Z"
    }
   },
   "outputs": [
    {
     "name": "stdout",
     "output_type": "stream",
     "text": [
      "<class 'pandas.core.frame.DataFrame'>\n",
      "RangeIndex: 58941383 entries, 0 to 58941382\n",
      "Data columns (total 44 columns):\n",
      "T_DATE                            category\n",
      "CELL_LAC_ID                       int64\n",
      "CELL_AVAILABILITY_2G              float16\n",
      "CELL_AVAILABILITY_3G              float16\n",
      "CELL_AVAILABILITY_4G              float16\n",
      "CSSR_2G                           float16\n",
      "CSSR_3G                           float16\n",
      "ERAB_PS_BLOCKING_RATE_LTE         float16\n",
      "ERAB_PS_BLOCKING_RATE_PLMN_LTE    float16\n",
      "ERAB_PS_DROP_RATE_LTE             float16\n",
      "HSPDSCH_CODE_UTIL_3G              float16\n",
      "NODEB_CNBAP_LOAD_HARDWARE         float16\n",
      "PART_CQI_QPSK_LTE                 float16\n",
      "PART_MCS_QPSK_LTE                 float16\n",
      "PROC_LOAD_3G                      float16\n",
      "PSSR_2G                           float16\n",
      "PSSR_3G                           float16\n",
      "PSSR_LTE                          float16\n",
      "RAB_CS_BLOCKING_RATE_3G           float16\n",
      "RAB_CS_DROP_RATE_3G               float16\n",
      "RAB_PS_BLOCKING_RATE_3G           float16\n",
      "RAB_PS_DROP_RATE_3G               float16\n",
      "RBU_AVAIL_DL                      float16\n",
      "RBU_AVAIL_DL_LTE                  float16\n",
      "RBU_AVAIL_UL                      float16\n",
      "RBU_OTHER_DL                      float16\n",
      "RBU_OTHER_UL                      float16\n",
      "RBU_OWN_DL                        float16\n",
      "RBU_OWN_UL                        float16\n",
      "RRC_BLOCKING_RATE_3G              float16\n",
      "RRC_BLOCKING_RATE_LTE             float16\n",
      "RTWP_3G                           float16\n",
      "SHO_FACTOR                        float16\n",
      "TBF_DROP_RATE_2G                  float16\n",
      "TCH_DROP_RATE_2G                  float16\n",
      "UTIL_BRD_CPU_3G                   float16\n",
      "UTIL_CE_DL_3G                     float16\n",
      "UTIL_CE_HW_DL_3G                  float16\n",
      "UTIL_CE_UL_3G                     float16\n",
      "UTIL_SUBUNITS_3G                  float16\n",
      "UL_VOLUME_LTE                     float16\n",
      "DL_VOLUME_LTE                     float16\n",
      "TOTAL_DL_VOLUME_3G                float16\n",
      "TOTAL_UL_VOLUME_3G                float16\n",
      "dtypes: category(1), float16(42), int64(1)\n",
      "memory usage: 5.2 GB\n"
     ]
    }
   ],
   "source": [
    "bs_avg_kpi.info(memory_usage='deep')"
   ]
  },
  {
   "cell_type": "markdown",
   "metadata": {},
   "source": [
    "## Определение поколения соты"
   ]
  },
  {
   "cell_type": "markdown",
   "metadata": {},
   "source": [
    "Известно, что каждая сота принадлежит только одному поколению (2g, 3g, 4g). Дан список показателей для каждого поколения."
   ]
  },
  {
   "cell_type": "code",
   "execution_count": 12,
   "metadata": {
    "ExecuteTime": {
     "end_time": "2018-12-25T09:52:28.155503Z",
     "start_time": "2018-12-25T09:52:28.146189Z"
    },
    "collapsed": true
   },
   "outputs": [],
   "source": [
    "bs_2g_columns = ['CELL_AVAILABILITY_2G', 'CSSR_2G', 'PSSR_2G', 'TBF_DROP_RATE_2G', 'TCH_DROP_RATE_2G']\n",
    "bs_3g_columns = ['CELL_AVAILABILITY_3G', 'CSSR_3G', 'HSPDSCH_CODE_UTIL_3G', 'NODEB_CNBAP_LOAD_HARDWARE', \n",
    "                 'PROC_LOAD_3G', 'PSSR_3G', 'RAB_CS_BLOCKING_RATE_3G', 'RAB_CS_DROP_RATE_3G',\n",
    "                 'RAB_PS_BLOCKING_RATE_3G', 'RAB_PS_DROP_RATE_3G', 'RRC_BLOCKING_RATE_3G',\n",
    "                 'RTWP_3G', 'SHO_FACTOR', 'UTIL_BRD_CPU_3G', 'UTIL_CE_DL_3G','UTIL_CE_HW_DL_3G', \n",
    "                 'UTIL_CE_UL_3G', 'UTIL_SUBUNITS_3G', 'TOTAL_DL_VOLUME_3G', 'TOTAL_UL_VOLUME_3G']\n",
    "bs_4g_columns = ['CELL_AVAILABILITY_4G','ERAB_PS_BLOCKING_RATE_LTE', 'ERAB_PS_BLOCKING_RATE_PLMN_LTE',\n",
    "                 'ERAB_PS_DROP_RATE_LTE', 'PART_CQI_QPSK_LTE', 'PART_MCS_QPSK_LTE','PSSR_LTE',\n",
    "                 'RBU_AVAIL_DL','RBU_AVAIL_DL_LTE', 'RBU_AVAIL_UL', 'RBU_OTHER_DL', 'RBU_OTHER_UL',\n",
    "                 'RBU_OWN_DL', 'RBU_OWN_UL', 'RRC_BLOCKING_RATE_LTE', 'UL_VOLUME_LTE', 'DL_VOLUME_LTE']"
   ]
  },
  {
   "cell_type": "code",
   "execution_count": 14,
   "metadata": {
    "ExecuteTime": {
     "end_time": "2018-12-25T09:52:38.607260Z",
     "start_time": "2018-12-25T09:52:32.948351Z"
    }
   },
   "outputs": [
    {
     "data": {
      "text/html": [
       "<div>\n",
       "<style>\n",
       "    .dataframe thead tr:only-child th {\n",
       "        text-align: right;\n",
       "    }\n",
       "\n",
       "    .dataframe thead th {\n",
       "        text-align: left;\n",
       "    }\n",
       "\n",
       "    .dataframe tbody tr th {\n",
       "        vertical-align: top;\n",
       "    }\n",
       "</style>\n",
       "<table border=\"1\" class=\"dataframe\">\n",
       "  <thead>\n",
       "    <tr style=\"text-align: right;\">\n",
       "      <th></th>\n",
       "      <th>T_DATE</th>\n",
       "      <th>CELL_LAC_ID</th>\n",
       "      <th>CELL_AVAILABILITY_2G</th>\n",
       "      <th>CELL_AVAILABILITY_3G</th>\n",
       "      <th>CELL_AVAILABILITY_4G</th>\n",
       "      <th>CSSR_2G</th>\n",
       "      <th>CSSR_3G</th>\n",
       "      <th>ERAB_PS_BLOCKING_RATE_LTE</th>\n",
       "      <th>ERAB_PS_BLOCKING_RATE_PLMN_LTE</th>\n",
       "      <th>ERAB_PS_DROP_RATE_LTE</th>\n",
       "      <th>...</th>\n",
       "      <th>TCH_DROP_RATE_2G</th>\n",
       "      <th>UTIL_BRD_CPU_3G</th>\n",
       "      <th>UTIL_CE_DL_3G</th>\n",
       "      <th>UTIL_CE_HW_DL_3G</th>\n",
       "      <th>UTIL_CE_UL_3G</th>\n",
       "      <th>UTIL_SUBUNITS_3G</th>\n",
       "      <th>UL_VOLUME_LTE</th>\n",
       "      <th>DL_VOLUME_LTE</th>\n",
       "      <th>TOTAL_DL_VOLUME_3G</th>\n",
       "      <th>TOTAL_UL_VOLUME_3G</th>\n",
       "    </tr>\n",
       "  </thead>\n",
       "  <tbody>\n",
       "    <tr>\n",
       "      <th>56983564</th>\n",
       "      <td>24.05</td>\n",
       "      <td>292135</td>\n",
       "      <td>1.0</td>\n",
       "      <td>0.999512</td>\n",
       "      <td>NaN</td>\n",
       "      <td>NaN</td>\n",
       "      <td>0.943359</td>\n",
       "      <td>NaN</td>\n",
       "      <td>NaN</td>\n",
       "      <td>NaN</td>\n",
       "      <td>...</td>\n",
       "      <td>NaN</td>\n",
       "      <td>NaN</td>\n",
       "      <td>0.024933</td>\n",
       "      <td>NaN</td>\n",
       "      <td>NaN</td>\n",
       "      <td>NaN</td>\n",
       "      <td>NaN</td>\n",
       "      <td>NaN</td>\n",
       "      <td>0.095154</td>\n",
       "      <td>0.020187</td>\n",
       "    </tr>\n",
       "    <tr>\n",
       "      <th>32573002</th>\n",
       "      <td>30.05</td>\n",
       "      <td>63726</td>\n",
       "      <td>NaN</td>\n",
       "      <td>1.000000</td>\n",
       "      <td>NaN</td>\n",
       "      <td>NaN</td>\n",
       "      <td>0.945312</td>\n",
       "      <td>NaN</td>\n",
       "      <td>NaN</td>\n",
       "      <td>NaN</td>\n",
       "      <td>...</td>\n",
       "      <td>NaN</td>\n",
       "      <td>NaN</td>\n",
       "      <td>NaN</td>\n",
       "      <td>NaN</td>\n",
       "      <td>NaN</td>\n",
       "      <td>NaN</td>\n",
       "      <td>NaN</td>\n",
       "      <td>NaN</td>\n",
       "      <td>0.007423</td>\n",
       "      <td>0.002295</td>\n",
       "    </tr>\n",
       "    <tr>\n",
       "      <th>18709642</th>\n",
       "      <td>12.04</td>\n",
       "      <td>146758</td>\n",
       "      <td>NaN</td>\n",
       "      <td>1.000000</td>\n",
       "      <td>NaN</td>\n",
       "      <td>NaN</td>\n",
       "      <td>0.945312</td>\n",
       "      <td>NaN</td>\n",
       "      <td>NaN</td>\n",
       "      <td>NaN</td>\n",
       "      <td>...</td>\n",
       "      <td>NaN</td>\n",
       "      <td>NaN</td>\n",
       "      <td>NaN</td>\n",
       "      <td>NaN</td>\n",
       "      <td>NaN</td>\n",
       "      <td>NaN</td>\n",
       "      <td>NaN</td>\n",
       "      <td>NaN</td>\n",
       "      <td>0.033203</td>\n",
       "      <td>0.013771</td>\n",
       "    </tr>\n",
       "    <tr>\n",
       "      <th>24350980</th>\n",
       "      <td>31.03</td>\n",
       "      <td>482445</td>\n",
       "      <td>1.0</td>\n",
       "      <td>1.000000</td>\n",
       "      <td>NaN</td>\n",
       "      <td>NaN</td>\n",
       "      <td>0.945312</td>\n",
       "      <td>NaN</td>\n",
       "      <td>NaN</td>\n",
       "      <td>NaN</td>\n",
       "      <td>...</td>\n",
       "      <td>NaN</td>\n",
       "      <td>NaN</td>\n",
       "      <td>0.005398</td>\n",
       "      <td>NaN</td>\n",
       "      <td>NaN</td>\n",
       "      <td>NaN</td>\n",
       "      <td>NaN</td>\n",
       "      <td>NaN</td>\n",
       "      <td>0.008614</td>\n",
       "      <td>0.002457</td>\n",
       "    </tr>\n",
       "    <tr>\n",
       "      <th>10608253</th>\n",
       "      <td>01.05</td>\n",
       "      <td>260405</td>\n",
       "      <td>1.0</td>\n",
       "      <td>1.000000</td>\n",
       "      <td>NaN</td>\n",
       "      <td>NaN</td>\n",
       "      <td>0.945312</td>\n",
       "      <td>NaN</td>\n",
       "      <td>NaN</td>\n",
       "      <td>NaN</td>\n",
       "      <td>...</td>\n",
       "      <td>NaN</td>\n",
       "      <td>NaN</td>\n",
       "      <td>0.019440</td>\n",
       "      <td>NaN</td>\n",
       "      <td>NaN</td>\n",
       "      <td>NaN</td>\n",
       "      <td>NaN</td>\n",
       "      <td>NaN</td>\n",
       "      <td>0.081177</td>\n",
       "      <td>0.032166</td>\n",
       "    </tr>\n",
       "  </tbody>\n",
       "</table>\n",
       "<p>5 rows × 44 columns</p>\n",
       "</div>"
      ],
      "text/plain": [
       "         T_DATE  CELL_LAC_ID  CELL_AVAILABILITY_2G  CELL_AVAILABILITY_3G  \\\n",
       "56983564  24.05       292135                   1.0              0.999512   \n",
       "32573002  30.05        63726                   NaN              1.000000   \n",
       "18709642  12.04       146758                   NaN              1.000000   \n",
       "24350980  31.03       482445                   1.0              1.000000   \n",
       "10608253  01.05       260405                   1.0              1.000000   \n",
       "\n",
       "          CELL_AVAILABILITY_4G  CSSR_2G   CSSR_3G  ERAB_PS_BLOCKING_RATE_LTE  \\\n",
       "56983564                   NaN      NaN  0.943359                        NaN   \n",
       "32573002                   NaN      NaN  0.945312                        NaN   \n",
       "18709642                   NaN      NaN  0.945312                        NaN   \n",
       "24350980                   NaN      NaN  0.945312                        NaN   \n",
       "10608253                   NaN      NaN  0.945312                        NaN   \n",
       "\n",
       "          ERAB_PS_BLOCKING_RATE_PLMN_LTE  ERAB_PS_DROP_RATE_LTE  \\\n",
       "56983564                             NaN                    NaN   \n",
       "32573002                             NaN                    NaN   \n",
       "18709642                             NaN                    NaN   \n",
       "24350980                             NaN                    NaN   \n",
       "10608253                             NaN                    NaN   \n",
       "\n",
       "                 ...          TCH_DROP_RATE_2G  UTIL_BRD_CPU_3G  \\\n",
       "56983564         ...                       NaN              NaN   \n",
       "32573002         ...                       NaN              NaN   \n",
       "18709642         ...                       NaN              NaN   \n",
       "24350980         ...                       NaN              NaN   \n",
       "10608253         ...                       NaN              NaN   \n",
       "\n",
       "          UTIL_CE_DL_3G  UTIL_CE_HW_DL_3G  UTIL_CE_UL_3G  UTIL_SUBUNITS_3G  \\\n",
       "56983564       0.024933               NaN            NaN               NaN   \n",
       "32573002            NaN               NaN            NaN               NaN   \n",
       "18709642            NaN               NaN            NaN               NaN   \n",
       "24350980       0.005398               NaN            NaN               NaN   \n",
       "10608253       0.019440               NaN            NaN               NaN   \n",
       "\n",
       "          UL_VOLUME_LTE  DL_VOLUME_LTE  TOTAL_DL_VOLUME_3G  TOTAL_UL_VOLUME_3G  \n",
       "56983564            NaN            NaN            0.095154            0.020187  \n",
       "32573002            NaN            NaN            0.007423            0.002295  \n",
       "18709642            NaN            NaN            0.033203            0.013771  \n",
       "24350980            NaN            NaN            0.008614            0.002457  \n",
       "10608253            NaN            NaN            0.081177            0.032166  \n",
       "\n",
       "[5 rows x 44 columns]"
      ]
     },
     "execution_count": 14,
     "metadata": {},
     "output_type": "execute_result"
    }
   ],
   "source": [
    "bs_avg_kpi.sample(5)"
   ]
  },
  {
   "cell_type": "markdown",
   "metadata": {},
   "source": [
    "Хочется верить, что если сота принадлежит какому-то поколению, то у нее есть непустые значения только в колонках для этого поколения. Посмотрим на это визуально."
   ]
  },
  {
   "cell_type": "code",
   "execution_count": 15,
   "metadata": {
    "ExecuteTime": {
     "end_time": "2018-12-25T09:53:05.156964Z",
     "start_time": "2018-12-25T09:53:01.244778Z"
    }
   },
   "outputs": [
    {
     "data": {
      "text/plain": [
       "<matplotlib.lines.Line2D at 0x7f3a73ad3cf8>"
      ]
     },
     "execution_count": 15,
     "metadata": {},
     "output_type": "execute_result"
    },
    {
     "data": {
      "image/png": "[encoded data removed]",
      "text/plain": [
       "<matplotlib.figure.Figure at 0x7f3a754e14a8>"
      ]
     },
     "metadata": {},
     "output_type": "display_data"
    }
   ],
   "source": [
    "gen_columns = bs_2g_columns+bs_3g_columns+bs_4g_columns\n",
    "plt.spy(bs_avg_kpi.sample(500)[gen_columns].sort_values(gen_columns), markersize=1, aspect='auto' )"
   ]
  },
  {
   "cell_type": "markdown",
   "metadata": {},
   "source": [
    "В целом примерно так и есть, но бывают исключения. Похоже, колонки `CELL_AVAILABILITY` ведут себя нетипично. Зато остальные колонки вроде бы удовлетворяют гипотезе. Давайте исключим эти колонки из списка."
   ]
  },
  {
   "cell_type": "code",
   "execution_count": 16,
   "metadata": {
    "ExecuteTime": {
     "end_time": "2018-12-25T09:53:10.060938Z",
     "start_time": "2018-12-25T09:53:10.056789Z"
    },
    "collapsed": true
   },
   "outputs": [],
   "source": [
    "bs_2g_columns.remove('CELL_AVAILABILITY_2G')\n",
    "bs_3g_columns.remove('CELL_AVAILABILITY_3G')\n",
    "bs_4g_columns.remove('CELL_AVAILABILITY_4G')"
   ]
  },
  {
   "cell_type": "code",
   "execution_count": 17,
   "metadata": {
    "ExecuteTime": {
     "end_time": "2018-12-25T09:53:15.165396Z",
     "start_time": "2018-12-25T09:53:11.284750Z"
    }
   },
   "outputs": [
    {
     "data": {
      "text/plain": [
       "<matplotlib.lines.Line2D at 0x7f3a730b1208>"
      ]
     },
     "execution_count": 17,
     "metadata": {},
     "output_type": "execute_result"
    },
    {
     "data": {
      "image/png": "[encoded data removed]",
      "text/plain": [
       "<matplotlib.figure.Figure at 0x7f3a737809b0>"
      ]
     },
     "metadata": {},
     "output_type": "display_data"
    }
   ],
   "source": [
    "gen_columns = bs_2g_columns+bs_3g_columns+bs_4g_columns\n",
    "plt.spy(bs_avg_kpi.sample(500)[gen_columns].sort_values(gen_columns), markersize=1, aspect='auto' )"
   ]
  },
  {
   "cell_type": "markdown",
   "metadata": {},
   "source": [
    "Теперь все хорошо разделяется. Определим для каждой соты ее поколение. Идея простая - поколение соты определяется тем, в какой из групп у нее больше всего непустых измерений."
   ]
  },
  {
   "cell_type": "code",
   "execution_count": 18,
   "metadata": {
    "ExecuteTime": {
     "end_time": "2018-12-25T09:54:10.418852Z",
     "start_time": "2018-12-25T09:53:24.153916Z"
    },
    "collapsed": true
   },
   "outputs": [],
   "source": [
    "bs_avg_kpi_counts = bs_avg_kpi.groupby('CELL_LAC_ID')[gen_columns].count()"
   ]
  },
  {
   "cell_type": "code",
   "execution_count": 19,
   "metadata": {
    "ExecuteTime": {
     "end_time": "2018-12-25T09:54:16.359848Z",
     "start_time": "2018-12-25T09:54:16.028366Z"
    },
    "collapsed": true
   },
   "outputs": [],
   "source": [
    "bs_2g = bs_avg_kpi_counts[bs_2g_columns].max(axis=1)[lambda r: r > 0].index\n",
    "bs_3g = bs_avg_kpi_counts[bs_3g_columns].max(axis=1)[lambda r: r > 0].index\n",
    "bs_4g = bs_avg_kpi_counts[bs_4g_columns].max(axis=1)[lambda r: r > 0].index"
   ]
  },
  {
   "cell_type": "markdown",
   "metadata": {},
   "source": [
    "Теперь в переменных `bs_2g`, `bs_3g` и `bs_4g` лежат списки идентификаторов сот по поколениям. По крайней мере, мы на это надеемся. Проверим себя: эти списки не должны пересекаться и в суммме должны давать полный список сот."
   ]
  },
  {
   "cell_type": "code",
   "execution_count": 20,
   "metadata": {
    "ExecuteTime": {
     "end_time": "2018-12-25T09:54:24.349414Z",
     "start_time": "2018-12-25T09:54:24.310662Z"
    }
   },
   "outputs": [
    {
     "data": {
      "text/plain": [
       "{100598, 507353}"
      ]
     },
     "execution_count": 20,
     "metadata": {},
     "output_type": "execute_result"
    }
   ],
   "source": [
    "set(bs_2g).intersection(bs_3g)"
   ]
  },
  {
   "cell_type": "code",
   "execution_count": 21,
   "metadata": {
    "ExecuteTime": {
     "end_time": "2018-12-25T09:54:25.245862Z",
     "start_time": "2018-12-25T09:54:25.217479Z"
    }
   },
   "outputs": [
    {
     "data": {
      "text/plain": [
       "{23850, 196323, 228465, 235430, 296060}"
      ]
     },
     "execution_count": 21,
     "metadata": {},
     "output_type": "execute_result"
    }
   ],
   "source": [
    "set(bs_2g).intersection(bs_4g)"
   ]
  },
  {
   "cell_type": "code",
   "execution_count": 22,
   "metadata": {
    "ExecuteTime": {
     "end_time": "2018-12-25T09:54:26.095479Z",
     "start_time": "2018-12-25T09:54:26.054385Z"
    }
   },
   "outputs": [
    {
     "data": {
      "text/plain": [
       "{219396}"
      ]
     },
     "execution_count": 22,
     "metadata": {},
     "output_type": "execute_result"
    }
   ],
   "source": [
    "set(bs_3g).intersection(bs_4g)"
   ]
  },
  {
   "cell_type": "markdown",
   "metadata": {},
   "source": [
    "Интересно. Есть какие-то пересечения. Видимо, какие-то ошибки, надо посмотреть на данные."
   ]
  },
  {
   "cell_type": "code",
   "execution_count": 23,
   "metadata": {
    "ExecuteTime": {
     "end_time": "2018-12-25T09:54:38.874985Z",
     "start_time": "2018-12-25T09:54:38.768515Z"
    },
    "collapsed": true
   },
   "outputs": [],
   "source": [
    "problem_cells = list(set(bs_2g).intersection(bs_3g).union(set(bs_2g).intersection(bs_4g)).union(set(bs_3g).intersection(bs_4g)))"
   ]
  },
  {
   "cell_type": "code",
   "execution_count": 24,
   "metadata": {
    "ExecuteTime": {
     "end_time": "2018-12-25T09:54:40.211214Z",
     "start_time": "2018-12-25T09:54:40.189568Z"
    }
   },
   "outputs": [
    {
     "data": {
      "text/html": [
       "<div>\n",
       "<style>\n",
       "    .dataframe thead tr:only-child th {\n",
       "        text-align: right;\n",
       "    }\n",
       "\n",
       "    .dataframe thead th {\n",
       "        text-align: left;\n",
       "    }\n",
       "\n",
       "    .dataframe tbody tr th {\n",
       "        vertical-align: top;\n",
       "    }\n",
       "</style>\n",
       "<table border=\"1\" class=\"dataframe\">\n",
       "  <thead>\n",
       "    <tr style=\"text-align: right;\">\n",
       "      <th>CELL_LAC_ID</th>\n",
       "      <th>228465</th>\n",
       "      <th>196323</th>\n",
       "      <th>219396</th>\n",
       "      <th>100598</th>\n",
       "      <th>235430</th>\n",
       "      <th>507353</th>\n",
       "      <th>23850</th>\n",
       "      <th>296060</th>\n",
       "    </tr>\n",
       "  </thead>\n",
       "  <tbody>\n",
       "    <tr>\n",
       "      <th>CSSR_2G</th>\n",
       "      <td>78</td>\n",
       "      <td>151</td>\n",
       "      <td>0</td>\n",
       "      <td>0</td>\n",
       "      <td>66</td>\n",
       "      <td>0</td>\n",
       "      <td>77</td>\n",
       "      <td>133</td>\n",
       "    </tr>\n",
       "    <tr>\n",
       "      <th>PSSR_2G</th>\n",
       "      <td>0</td>\n",
       "      <td>0</td>\n",
       "      <td>0</td>\n",
       "      <td>67</td>\n",
       "      <td>0</td>\n",
       "      <td>47</td>\n",
       "      <td>0</td>\n",
       "      <td>0</td>\n",
       "    </tr>\n",
       "    <tr>\n",
       "      <th>TBF_DROP_RATE_2G</th>\n",
       "      <td>78</td>\n",
       "      <td>151</td>\n",
       "      <td>0</td>\n",
       "      <td>67</td>\n",
       "      <td>66</td>\n",
       "      <td>47</td>\n",
       "      <td>77</td>\n",
       "      <td>133</td>\n",
       "    </tr>\n",
       "    <tr>\n",
       "      <th>TCH_DROP_RATE_2G</th>\n",
       "      <td>73</td>\n",
       "      <td>151</td>\n",
       "      <td>0</td>\n",
       "      <td>67</td>\n",
       "      <td>65</td>\n",
       "      <td>45</td>\n",
       "      <td>73</td>\n",
       "      <td>133</td>\n",
       "    </tr>\n",
       "    <tr>\n",
       "      <th>CSSR_3G</th>\n",
       "      <td>0</td>\n",
       "      <td>0</td>\n",
       "      <td>150</td>\n",
       "      <td>85</td>\n",
       "      <td>0</td>\n",
       "      <td>105</td>\n",
       "      <td>0</td>\n",
       "      <td>0</td>\n",
       "    </tr>\n",
       "    <tr>\n",
       "      <th>HSPDSCH_CODE_UTIL_3G</th>\n",
       "      <td>0</td>\n",
       "      <td>0</td>\n",
       "      <td>0</td>\n",
       "      <td>0</td>\n",
       "      <td>0</td>\n",
       "      <td>0</td>\n",
       "      <td>0</td>\n",
       "      <td>0</td>\n",
       "    </tr>\n",
       "    <tr>\n",
       "      <th>NODEB_CNBAP_LOAD_HARDWARE</th>\n",
       "      <td>0</td>\n",
       "      <td>0</td>\n",
       "      <td>0</td>\n",
       "      <td>0</td>\n",
       "      <td>0</td>\n",
       "      <td>0</td>\n",
       "      <td>0</td>\n",
       "      <td>0</td>\n",
       "    </tr>\n",
       "    <tr>\n",
       "      <th>PROC_LOAD_3G</th>\n",
       "      <td>0</td>\n",
       "      <td>0</td>\n",
       "      <td>0</td>\n",
       "      <td>0</td>\n",
       "      <td>0</td>\n",
       "      <td>0</td>\n",
       "      <td>0</td>\n",
       "      <td>0</td>\n",
       "    </tr>\n",
       "    <tr>\n",
       "      <th>PSSR_3G</th>\n",
       "      <td>0</td>\n",
       "      <td>0</td>\n",
       "      <td>132</td>\n",
       "      <td>85</td>\n",
       "      <td>0</td>\n",
       "      <td>106</td>\n",
       "      <td>0</td>\n",
       "      <td>0</td>\n",
       "    </tr>\n",
       "    <tr>\n",
       "      <th>RAB_CS_BLOCKING_RATE_3G</th>\n",
       "      <td>0</td>\n",
       "      <td>0</td>\n",
       "      <td>0</td>\n",
       "      <td>3</td>\n",
       "      <td>0</td>\n",
       "      <td>0</td>\n",
       "      <td>0</td>\n",
       "      <td>0</td>\n",
       "    </tr>\n",
       "    <tr>\n",
       "      <th>RAB_CS_DROP_RATE_3G</th>\n",
       "      <td>0</td>\n",
       "      <td>0</td>\n",
       "      <td>64</td>\n",
       "      <td>85</td>\n",
       "      <td>0</td>\n",
       "      <td>9</td>\n",
       "      <td>0</td>\n",
       "      <td>0</td>\n",
       "    </tr>\n",
       "    <tr>\n",
       "      <th>RAB_PS_BLOCKING_RATE_3G</th>\n",
       "      <td>0</td>\n",
       "      <td>0</td>\n",
       "      <td>0</td>\n",
       "      <td>0</td>\n",
       "      <td>0</td>\n",
       "      <td>0</td>\n",
       "      <td>0</td>\n",
       "      <td>0</td>\n",
       "    </tr>\n",
       "    <tr>\n",
       "      <th>RAB_PS_DROP_RATE_3G</th>\n",
       "      <td>0</td>\n",
       "      <td>0</td>\n",
       "      <td>150</td>\n",
       "      <td>85</td>\n",
       "      <td>0</td>\n",
       "      <td>73</td>\n",
       "      <td>0</td>\n",
       "      <td>0</td>\n",
       "    </tr>\n",
       "    <tr>\n",
       "      <th>RRC_BLOCKING_RATE_3G</th>\n",
       "      <td>0</td>\n",
       "      <td>0</td>\n",
       "      <td>1</td>\n",
       "      <td>4</td>\n",
       "      <td>0</td>\n",
       "      <td>1</td>\n",
       "      <td>0</td>\n",
       "      <td>0</td>\n",
       "    </tr>\n",
       "    <tr>\n",
       "      <th>RTWP_3G</th>\n",
       "      <td>0</td>\n",
       "      <td>0</td>\n",
       "      <td>0</td>\n",
       "      <td>0</td>\n",
       "      <td>0</td>\n",
       "      <td>0</td>\n",
       "      <td>0</td>\n",
       "      <td>0</td>\n",
       "    </tr>\n",
       "    <tr>\n",
       "      <th>SHO_FACTOR</th>\n",
       "      <td>0</td>\n",
       "      <td>0</td>\n",
       "      <td>150</td>\n",
       "      <td>85</td>\n",
       "      <td>0</td>\n",
       "      <td>106</td>\n",
       "      <td>0</td>\n",
       "      <td>0</td>\n",
       "    </tr>\n",
       "    <tr>\n",
       "      <th>UTIL_BRD_CPU_3G</th>\n",
       "      <td>0</td>\n",
       "      <td>0</td>\n",
       "      <td>0</td>\n",
       "      <td>0</td>\n",
       "      <td>0</td>\n",
       "      <td>0</td>\n",
       "      <td>0</td>\n",
       "      <td>0</td>\n",
       "    </tr>\n",
       "    <tr>\n",
       "      <th>UTIL_CE_DL_3G</th>\n",
       "      <td>0</td>\n",
       "      <td>0</td>\n",
       "      <td>150</td>\n",
       "      <td>0</td>\n",
       "      <td>0</td>\n",
       "      <td>0</td>\n",
       "      <td>0</td>\n",
       "      <td>0</td>\n",
       "    </tr>\n",
       "    <tr>\n",
       "      <th>UTIL_CE_HW_DL_3G</th>\n",
       "      <td>0</td>\n",
       "      <td>0</td>\n",
       "      <td>0</td>\n",
       "      <td>0</td>\n",
       "      <td>0</td>\n",
       "      <td>0</td>\n",
       "      <td>0</td>\n",
       "      <td>0</td>\n",
       "    </tr>\n",
       "    <tr>\n",
       "      <th>UTIL_CE_UL_3G</th>\n",
       "      <td>0</td>\n",
       "      <td>0</td>\n",
       "      <td>0</td>\n",
       "      <td>0</td>\n",
       "      <td>0</td>\n",
       "      <td>0</td>\n",
       "      <td>0</td>\n",
       "      <td>0</td>\n",
       "    </tr>\n",
       "    <tr>\n",
       "      <th>UTIL_SUBUNITS_3G</th>\n",
       "      <td>0</td>\n",
       "      <td>0</td>\n",
       "      <td>0</td>\n",
       "      <td>0</td>\n",
       "      <td>0</td>\n",
       "      <td>0</td>\n",
       "      <td>0</td>\n",
       "      <td>0</td>\n",
       "    </tr>\n",
       "    <tr>\n",
       "      <th>TOTAL_DL_VOLUME_3G</th>\n",
       "      <td>0</td>\n",
       "      <td>0</td>\n",
       "      <td>150</td>\n",
       "      <td>85</td>\n",
       "      <td>0</td>\n",
       "      <td>106</td>\n",
       "      <td>0</td>\n",
       "      <td>0</td>\n",
       "    </tr>\n",
       "    <tr>\n",
       "      <th>TOTAL_UL_VOLUME_3G</th>\n",
       "      <td>0</td>\n",
       "      <td>0</td>\n",
       "      <td>150</td>\n",
       "      <td>85</td>\n",
       "      <td>0</td>\n",
       "      <td>106</td>\n",
       "      <td>0</td>\n",
       "      <td>0</td>\n",
       "    </tr>\n",
       "    <tr>\n",
       "      <th>ERAB_PS_BLOCKING_RATE_LTE</th>\n",
       "      <td>5</td>\n",
       "      <td>46</td>\n",
       "      <td>3</td>\n",
       "      <td>0</td>\n",
       "      <td>14</td>\n",
       "      <td>0</td>\n",
       "      <td>16</td>\n",
       "      <td>5</td>\n",
       "    </tr>\n",
       "    <tr>\n",
       "      <th>ERAB_PS_BLOCKING_RATE_PLMN_LTE</th>\n",
       "      <td>5</td>\n",
       "      <td>46</td>\n",
       "      <td>3</td>\n",
       "      <td>0</td>\n",
       "      <td>14</td>\n",
       "      <td>0</td>\n",
       "      <td>16</td>\n",
       "      <td>5</td>\n",
       "    </tr>\n",
       "    <tr>\n",
       "      <th>ERAB_PS_DROP_RATE_LTE</th>\n",
       "      <td>5</td>\n",
       "      <td>47</td>\n",
       "      <td>3</td>\n",
       "      <td>0</td>\n",
       "      <td>14</td>\n",
       "      <td>0</td>\n",
       "      <td>16</td>\n",
       "      <td>4</td>\n",
       "    </tr>\n",
       "    <tr>\n",
       "      <th>PART_CQI_QPSK_LTE</th>\n",
       "      <td>5</td>\n",
       "      <td>47</td>\n",
       "      <td>3</td>\n",
       "      <td>0</td>\n",
       "      <td>14</td>\n",
       "      <td>0</td>\n",
       "      <td>16</td>\n",
       "      <td>5</td>\n",
       "    </tr>\n",
       "    <tr>\n",
       "      <th>PART_MCS_QPSK_LTE</th>\n",
       "      <td>5</td>\n",
       "      <td>47</td>\n",
       "      <td>3</td>\n",
       "      <td>0</td>\n",
       "      <td>14</td>\n",
       "      <td>0</td>\n",
       "      <td>16</td>\n",
       "      <td>5</td>\n",
       "    </tr>\n",
       "    <tr>\n",
       "      <th>PSSR_LTE</th>\n",
       "      <td>5</td>\n",
       "      <td>47</td>\n",
       "      <td>3</td>\n",
       "      <td>0</td>\n",
       "      <td>14</td>\n",
       "      <td>0</td>\n",
       "      <td>16</td>\n",
       "      <td>5</td>\n",
       "    </tr>\n",
       "    <tr>\n",
       "      <th>RBU_AVAIL_DL</th>\n",
       "      <td>5</td>\n",
       "      <td>47</td>\n",
       "      <td>3</td>\n",
       "      <td>0</td>\n",
       "      <td>14</td>\n",
       "      <td>0</td>\n",
       "      <td>16</td>\n",
       "      <td>5</td>\n",
       "    </tr>\n",
       "    <tr>\n",
       "      <th>RBU_AVAIL_DL_LTE</th>\n",
       "      <td>0</td>\n",
       "      <td>0</td>\n",
       "      <td>0</td>\n",
       "      <td>0</td>\n",
       "      <td>0</td>\n",
       "      <td>0</td>\n",
       "      <td>0</td>\n",
       "      <td>0</td>\n",
       "    </tr>\n",
       "    <tr>\n",
       "      <th>RBU_AVAIL_UL</th>\n",
       "      <td>5</td>\n",
       "      <td>47</td>\n",
       "      <td>3</td>\n",
       "      <td>0</td>\n",
       "      <td>14</td>\n",
       "      <td>0</td>\n",
       "      <td>16</td>\n",
       "      <td>5</td>\n",
       "    </tr>\n",
       "    <tr>\n",
       "      <th>RBU_OTHER_DL</th>\n",
       "      <td>0</td>\n",
       "      <td>47</td>\n",
       "      <td>0</td>\n",
       "      <td>0</td>\n",
       "      <td>0</td>\n",
       "      <td>0</td>\n",
       "      <td>0</td>\n",
       "      <td>0</td>\n",
       "    </tr>\n",
       "    <tr>\n",
       "      <th>RBU_OTHER_UL</th>\n",
       "      <td>0</td>\n",
       "      <td>46</td>\n",
       "      <td>0</td>\n",
       "      <td>0</td>\n",
       "      <td>0</td>\n",
       "      <td>0</td>\n",
       "      <td>0</td>\n",
       "      <td>0</td>\n",
       "    </tr>\n",
       "    <tr>\n",
       "      <th>RBU_OWN_DL</th>\n",
       "      <td>5</td>\n",
       "      <td>47</td>\n",
       "      <td>3</td>\n",
       "      <td>0</td>\n",
       "      <td>14</td>\n",
       "      <td>0</td>\n",
       "      <td>16</td>\n",
       "      <td>5</td>\n",
       "    </tr>\n",
       "    <tr>\n",
       "      <th>RBU_OWN_UL</th>\n",
       "      <td>5</td>\n",
       "      <td>47</td>\n",
       "      <td>3</td>\n",
       "      <td>0</td>\n",
       "      <td>14</td>\n",
       "      <td>0</td>\n",
       "      <td>16</td>\n",
       "      <td>5</td>\n",
       "    </tr>\n",
       "    <tr>\n",
       "      <th>RRC_BLOCKING_RATE_LTE</th>\n",
       "      <td>5</td>\n",
       "      <td>47</td>\n",
       "      <td>3</td>\n",
       "      <td>0</td>\n",
       "      <td>13</td>\n",
       "      <td>0</td>\n",
       "      <td>15</td>\n",
       "      <td>4</td>\n",
       "    </tr>\n",
       "    <tr>\n",
       "      <th>UL_VOLUME_LTE</th>\n",
       "      <td>5</td>\n",
       "      <td>47</td>\n",
       "      <td>3</td>\n",
       "      <td>0</td>\n",
       "      <td>14</td>\n",
       "      <td>0</td>\n",
       "      <td>16</td>\n",
       "      <td>5</td>\n",
       "    </tr>\n",
       "    <tr>\n",
       "      <th>DL_VOLUME_LTE</th>\n",
       "      <td>5</td>\n",
       "      <td>47</td>\n",
       "      <td>3</td>\n",
       "      <td>0</td>\n",
       "      <td>14</td>\n",
       "      <td>0</td>\n",
       "      <td>16</td>\n",
       "      <td>5</td>\n",
       "    </tr>\n",
       "  </tbody>\n",
       "</table>\n",
       "</div>"
      ],
      "text/plain": [
       "CELL_LAC_ID                     228465  196323  219396  100598  235430  \\\n",
       "CSSR_2G                             78     151       0       0      66   \n",
       "PSSR_2G                              0       0       0      67       0   \n",
       "TBF_DROP_RATE_2G                    78     151       0      67      66   \n",
       "TCH_DROP_RATE_2G                    73     151       0      67      65   \n",
       "CSSR_3G                              0       0     150      85       0   \n",
       "HSPDSCH_CODE_UTIL_3G                 0       0       0       0       0   \n",
       "NODEB_CNBAP_LOAD_HARDWARE            0       0       0       0       0   \n",
       "PROC_LOAD_3G                         0       0       0       0       0   \n",
       "PSSR_3G                              0       0     132      85       0   \n",
       "RAB_CS_BLOCKING_RATE_3G              0       0       0       3       0   \n",
       "RAB_CS_DROP_RATE_3G                  0       0      64      85       0   \n",
       "RAB_PS_BLOCKING_RATE_3G              0       0       0       0       0   \n",
       "RAB_PS_DROP_RATE_3G                  0       0     150      85       0   \n",
       "RRC_BLOCKING_RATE_3G                 0       0       1       4       0   \n",
       "RTWP_3G                              0       0       0       0       0   \n",
       "SHO_FACTOR                           0       0     150      85       0   \n",
       "UTIL_BRD_CPU_3G                      0       0       0       0       0   \n",
       "UTIL_CE_DL_3G                        0       0     150       0       0   \n",
       "UTIL_CE_HW_DL_3G                     0       0       0       0       0   \n",
       "UTIL_CE_UL_3G                        0       0       0       0       0   \n",
       "UTIL_SUBUNITS_3G                     0       0       0       0       0   \n",
       "TOTAL_DL_VOLUME_3G                   0       0     150      85       0   \n",
       "TOTAL_UL_VOLUME_3G                   0       0     150      85       0   \n",
       "ERAB_PS_BLOCKING_RATE_LTE            5      46       3       0      14   \n",
       "ERAB_PS_BLOCKING_RATE_PLMN_LTE       5      46       3       0      14   \n",
       "ERAB_PS_DROP_RATE_LTE                5      47       3       0      14   \n",
       "PART_CQI_QPSK_LTE                    5      47       3       0      14   \n",
       "PART_MCS_QPSK_LTE                    5      47       3       0      14   \n",
       "PSSR_LTE                             5      47       3       0      14   \n",
       "RBU_AVAIL_DL                         5      47       3       0      14   \n",
       "RBU_AVAIL_DL_LTE                     0       0       0       0       0   \n",
       "RBU_AVAIL_UL                         5      47       3       0      14   \n",
       "RBU_OTHER_DL                         0      47       0       0       0   \n",
       "RBU_OTHER_UL                         0      46       0       0       0   \n",
       "RBU_OWN_DL                           5      47       3       0      14   \n",
       "RBU_OWN_UL                           5      47       3       0      14   \n",
       "RRC_BLOCKING_RATE_LTE                5      47       3       0      13   \n",
       "UL_VOLUME_LTE                        5      47       3       0      14   \n",
       "DL_VOLUME_LTE                        5      47       3       0      14   \n",
       "\n",
       "CELL_LAC_ID                     507353  23850   296060  \n",
       "CSSR_2G                              0      77     133  \n",
       "PSSR_2G                             47       0       0  \n",
       "TBF_DROP_RATE_2G                    47      77     133  \n",
       "TCH_DROP_RATE_2G                    45      73     133  \n",
       "CSSR_3G                            105       0       0  \n",
       "HSPDSCH_CODE_UTIL_3G                 0       0       0  \n",
       "NODEB_CNBAP_LOAD_HARDWARE            0       0       0  \n",
       "PROC_LOAD_3G                         0       0       0  \n",
       "PSSR_3G                            106       0       0  \n",
       "RAB_CS_BLOCKING_RATE_3G              0       0       0  \n",
       "RAB_CS_DROP_RATE_3G                  9       0       0  \n",
       "RAB_PS_BLOCKING_RATE_3G              0       0       0  \n",
       "RAB_PS_DROP_RATE_3G                 73       0       0  \n",
       "RRC_BLOCKING_RATE_3G                 1       0       0  \n",
       "RTWP_3G                              0       0       0  \n",
       "SHO_FACTOR                         106       0       0  \n",
       "UTIL_BRD_CPU_3G                      0       0       0  \n",
       "UTIL_CE_DL_3G                        0       0       0  \n",
       "UTIL_CE_HW_DL_3G                     0       0       0  \n",
       "UTIL_CE_UL_3G                        0       0       0  \n",
       "UTIL_SUBUNITS_3G                     0       0       0  \n",
       "TOTAL_DL_VOLUME_3G                 106       0       0  \n",
       "TOTAL_UL_VOLUME_3G                 106       0       0  \n",
       "ERAB_PS_BLOCKING_RATE_LTE            0      16       5  \n",
       "ERAB_PS_BLOCKING_RATE_PLMN_LTE       0      16       5  \n",
       "ERAB_PS_DROP_RATE_LTE                0      16       4  \n",
       "PART_CQI_QPSK_LTE                    0      16       5  \n",
       "PART_MCS_QPSK_LTE                    0      16       5  \n",
       "PSSR_LTE                             0      16       5  \n",
       "RBU_AVAIL_DL                         0      16       5  \n",
       "RBU_AVAIL_DL_LTE                     0       0       0  \n",
       "RBU_AVAIL_UL                         0      16       5  \n",
       "RBU_OTHER_DL                         0       0       0  \n",
       "RBU_OTHER_UL                         0       0       0  \n",
       "RBU_OWN_DL                           0      16       5  \n",
       "RBU_OWN_UL                           0      16       5  \n",
       "RRC_BLOCKING_RATE_LTE                0      15       4  \n",
       "UL_VOLUME_LTE                        0      16       5  \n",
       "DL_VOLUME_LTE                        0      16       5  "
      ]
     },
     "execution_count": 24,
     "metadata": {},
     "output_type": "execute_result"
    }
   ],
   "source": [
    "bs_avg_kpi_counts.loc[problem_cells, :].T"
   ]
  },
  {
   "cell_type": "markdown",
   "metadata": {},
   "source": [
    "Да, непонятно. Но ничего страшного. Всего 8 сот - это допустимая погрешность. Видимо, где-то в данные вкралась ошибка. Можно их либо выкинуть, либо отнести к тому поколению, по которому больше всего измерений."
   ]
  },
  {
   "cell_type": "code",
   "execution_count": 25,
   "metadata": {
    "ExecuteTime": {
     "end_time": "2018-12-25T09:54:51.983015Z",
     "start_time": "2018-12-25T09:54:51.770739Z"
    },
    "collapsed": true
   },
   "outputs": [],
   "source": [
    "bs_2g_counts = bs_avg_kpi_counts[bs_2g_columns].max(axis=1)\n",
    "bs_3g_counts = bs_avg_kpi_counts[bs_3g_columns].max(axis=1)\n",
    "bs_4g_counts = bs_avg_kpi_counts[bs_4g_columns].max(axis=1)"
   ]
  },
  {
   "cell_type": "code",
   "execution_count": 26,
   "metadata": {
    "ExecuteTime": {
     "end_time": "2018-12-25T09:54:53.345675Z",
     "start_time": "2018-12-25T09:54:53.335758Z"
    },
    "collapsed": true
   },
   "outputs": [],
   "source": [
    "bs_counts = pd.DataFrame({'2g':bs_2g_counts, '3g':bs_3g_counts, '4g':bs_4g_counts}, index=bs_avg_kpi_counts.index)"
   ]
  },
  {
   "cell_type": "code",
   "execution_count": 27,
   "metadata": {
    "ExecuteTime": {
     "end_time": "2018-12-25T09:54:54.688865Z",
     "start_time": "2018-12-25T09:54:54.679060Z"
    }
   },
   "outputs": [
    {
     "data": {
      "text/html": [
       "<div>\n",
       "<style>\n",
       "    .dataframe thead tr:only-child th {\n",
       "        text-align: right;\n",
       "    }\n",
       "\n",
       "    .dataframe thead th {\n",
       "        text-align: left;\n",
       "    }\n",
       "\n",
       "    .dataframe tbody tr th {\n",
       "        vertical-align: top;\n",
       "    }\n",
       "</style>\n",
       "<table border=\"1\" class=\"dataframe\">\n",
       "  <thead>\n",
       "    <tr style=\"text-align: right;\">\n",
       "      <th></th>\n",
       "      <th>2g</th>\n",
       "      <th>3g</th>\n",
       "      <th>4g</th>\n",
       "    </tr>\n",
       "    <tr>\n",
       "      <th>CELL_LAC_ID</th>\n",
       "      <th></th>\n",
       "      <th></th>\n",
       "      <th></th>\n",
       "    </tr>\n",
       "  </thead>\n",
       "  <tbody>\n",
       "    <tr>\n",
       "      <th>228465</th>\n",
       "      <td>78</td>\n",
       "      <td>0</td>\n",
       "      <td>5</td>\n",
       "    </tr>\n",
       "    <tr>\n",
       "      <th>196323</th>\n",
       "      <td>151</td>\n",
       "      <td>0</td>\n",
       "      <td>47</td>\n",
       "    </tr>\n",
       "    <tr>\n",
       "      <th>219396</th>\n",
       "      <td>0</td>\n",
       "      <td>150</td>\n",
       "      <td>3</td>\n",
       "    </tr>\n",
       "    <tr>\n",
       "      <th>100598</th>\n",
       "      <td>67</td>\n",
       "      <td>85</td>\n",
       "      <td>0</td>\n",
       "    </tr>\n",
       "    <tr>\n",
       "      <th>235430</th>\n",
       "      <td>66</td>\n",
       "      <td>0</td>\n",
       "      <td>14</td>\n",
       "    </tr>\n",
       "    <tr>\n",
       "      <th>507353</th>\n",
       "      <td>47</td>\n",
       "      <td>106</td>\n",
       "      <td>0</td>\n",
       "    </tr>\n",
       "    <tr>\n",
       "      <th>23850</th>\n",
       "      <td>77</td>\n",
       "      <td>0</td>\n",
       "      <td>16</td>\n",
       "    </tr>\n",
       "    <tr>\n",
       "      <th>296060</th>\n",
       "      <td>133</td>\n",
       "      <td>0</td>\n",
       "      <td>5</td>\n",
       "    </tr>\n",
       "  </tbody>\n",
       "</table>\n",
       "</div>"
      ],
      "text/plain": [
       "              2g   3g  4g\n",
       "CELL_LAC_ID              \n",
       "228465        78    0   5\n",
       "196323       151    0  47\n",
       "219396         0  150   3\n",
       "100598        67   85   0\n",
       "235430        66    0  14\n",
       "507353        47  106   0\n",
       "23850         77    0  16\n",
       "296060       133    0   5"
      ]
     },
     "execution_count": 27,
     "metadata": {},
     "output_type": "execute_result"
    }
   ],
   "source": [
    "bs_counts.loc[problem_cells, :]"
   ]
  },
  {
   "cell_type": "markdown",
   "metadata": {},
   "source": [
    "Итоговое правило такое: относим соту к тому поколению, по которому у нее больше всего измерений. В большинестве случаев это выбор между нулем и не нулем, неоднозначности - только по 8 сотам."
   ]
  },
  {
   "cell_type": "code",
   "execution_count": 28,
   "metadata": {
    "ExecuteTime": {
     "end_time": "2018-12-25T09:55:06.368937Z",
     "start_time": "2018-12-25T09:55:05.963752Z"
    },
    "collapsed": true
   },
   "outputs": [],
   "source": [
    "bs_gen = bs_counts.idxmax(axis=1)"
   ]
  },
  {
   "cell_type": "code",
   "execution_count": 29,
   "metadata": {
    "ExecuteTime": {
     "end_time": "2018-12-25T09:55:09.462163Z",
     "start_time": "2018-12-25T09:55:09.451365Z"
    }
   },
   "outputs": [
    {
     "data": {
      "text/plain": [
       "CELL_LAC_ID\n",
       "1    3g\n",
       "2    3g\n",
       "3    4g\n",
       "4    2g\n",
       "5    3g\n",
       "dtype: object"
      ]
     },
     "execution_count": 29,
     "metadata": {},
     "output_type": "execute_result"
    }
   ],
   "source": [
    "bs_gen.head()"
   ]
  },
  {
   "cell_type": "markdown",
   "metadata": {},
   "source": [
    "В итоге в `bs_gen` лежит принадлежность каждой соты к одному поколению.\n",
    "\n",
    "Теперь можно разбить одну таблицу `bs_avg_kpi` на три таблицы - по одной для каждого поколения."
   ]
  },
  {
   "cell_type": "code",
   "execution_count": 30,
   "metadata": {
    "ExecuteTime": {
     "end_time": "2018-12-25T09:55:15.179114Z",
     "start_time": "2018-12-25T09:55:15.019557Z"
    },
    "collapsed": true
   },
   "outputs": [],
   "source": [
    "bs_2g = bs_gen[bs_gen=='2g'].index\n",
    "bs_3g = bs_gen[bs_gen=='3g'].index\n",
    "bs_4g = bs_gen[bs_gen=='4g'].index"
   ]
  },
  {
   "cell_type": "markdown",
   "metadata": {},
   "source": [
    "Поскольку раньше мы удалили из списка колонок по поколениям поля `CELL_AVAILABILITY`, теперь надо их вернуть."
   ]
  },
  {
   "cell_type": "code",
   "execution_count": 31,
   "metadata": {
    "ExecuteTime": {
     "end_time": "2018-12-25T09:55:17.968879Z",
     "start_time": "2018-12-25T09:55:17.965254Z"
    },
    "collapsed": true
   },
   "outputs": [],
   "source": [
    "bs_2g_columns = ['CELL_AVAILABILITY_2G'] + bs_2g_columns\n",
    "bs_3g_columns = ['CELL_AVAILABILITY_3G'] + bs_3g_columns\n",
    "bs_4g_columns = ['CELL_AVAILABILITY_4G'] + bs_4g_columns"
   ]
  },
  {
   "cell_type": "code",
   "execution_count": 32,
   "metadata": {
    "ExecuteTime": {
     "end_time": "2018-12-25T09:56:57.547993Z",
     "start_time": "2018-12-25T09:55:20.569399Z"
    },
    "collapsed": true
   },
   "outputs": [],
   "source": [
    "bs_avg_kpi_2g = bs_avg_kpi[bs_avg_kpi['CELL_LAC_ID'].isin(set(bs_2g))][['T_DATE', 'CELL_LAC_ID'] + bs_2g_columns]\n",
    "bs_avg_kpi_3g = bs_avg_kpi[bs_avg_kpi['CELL_LAC_ID'].isin(set(bs_3g))][['T_DATE', 'CELL_LAC_ID'] + bs_3g_columns]\n",
    "bs_avg_kpi_4g = bs_avg_kpi[bs_avg_kpi['CELL_LAC_ID'].isin(set(bs_4g))][['T_DATE', 'CELL_LAC_ID'] + bs_4g_columns]"
   ]
  },
  {
   "cell_type": "code",
   "execution_count": 33,
   "metadata": {
    "ExecuteTime": {
     "end_time": "2018-12-25T09:57:57.099114Z",
     "start_time": "2018-12-25T09:57:57.092676Z"
    }
   },
   "outputs": [
    {
     "name": "stdout",
     "output_type": "stream",
     "text": [
      "<class 'pandas.core.frame.DataFrame'>\n",
      "Int64Index: 15925813 entries, 0 to 58941358\n",
      "Data columns (total 7 columns):\n",
      "T_DATE                  category\n",
      "CELL_LAC_ID             int64\n",
      "CELL_AVAILABILITY_2G    float16\n",
      "CSSR_2G                 float16\n",
      "PSSR_2G                 float16\n",
      "TBF_DROP_RATE_2G        float16\n",
      "TCH_DROP_RATE_2G        float16\n",
      "dtypes: category(1), float16(5), int64(1)\n",
      "memory usage: 425.3 MB\n"
     ]
    }
   ],
   "source": [
    "bs_avg_kpi_2g.info(memory_usage='deep')"
   ]
  },
  {
   "cell_type": "code",
   "execution_count": 34,
   "metadata": {
    "ExecuteTime": {
     "end_time": "2018-12-25T09:58:05.120728Z",
     "start_time": "2018-12-25T09:58:05.113941Z"
    }
   },
   "outputs": [
    {
     "name": "stdout",
     "output_type": "stream",
     "text": [
      "<class 'pandas.core.frame.DataFrame'>\n",
      "Int64Index: 29487663 entries, 26 to 58941373\n",
      "Data columns (total 22 columns):\n",
      "T_DATE                       category\n",
      "CELL_LAC_ID                  int64\n",
      "CELL_AVAILABILITY_3G         float16\n",
      "CSSR_3G                      float16\n",
      "HSPDSCH_CODE_UTIL_3G         float16\n",
      "NODEB_CNBAP_LOAD_HARDWARE    float16\n",
      "PROC_LOAD_3G                 float16\n",
      "PSSR_3G                      float16\n",
      "RAB_CS_BLOCKING_RATE_3G      float16\n",
      "RAB_CS_DROP_RATE_3G          float16\n",
      "RAB_PS_BLOCKING_RATE_3G      float16\n",
      "RAB_PS_DROP_RATE_3G          float16\n",
      "RRC_BLOCKING_RATE_3G         float16\n",
      "RTWP_3G                      float16\n",
      "SHO_FACTOR                   float16\n",
      "UTIL_BRD_CPU_3G              float16\n",
      "UTIL_CE_DL_3G                float16\n",
      "UTIL_CE_HW_DL_3G             float16\n",
      "UTIL_CE_UL_3G                float16\n",
      "UTIL_SUBUNITS_3G             float16\n",
      "TOTAL_DL_VOLUME_3G           float16\n",
      "TOTAL_UL_VOLUME_3G           float16\n",
      "dtypes: category(1), float16(20), int64(1)\n",
      "memory usage: 1.6 GB\n"
     ]
    }
   ],
   "source": [
    "bs_avg_kpi_3g.info(memory_usage='deep')"
   ]
  },
  {
   "cell_type": "code",
   "execution_count": 35,
   "metadata": {
    "ExecuteTime": {
     "end_time": "2018-12-25T09:58:09.556850Z",
     "start_time": "2018-12-25T09:58:09.550378Z"
    }
   },
   "outputs": [
    {
     "name": "stdout",
     "output_type": "stream",
     "text": [
      "<class 'pandas.core.frame.DataFrame'>\n",
      "Int64Index: 13527907 entries, 148 to 58941382\n",
      "Data columns (total 19 columns):\n",
      "T_DATE                            category\n",
      "CELL_LAC_ID                       int64\n",
      "CELL_AVAILABILITY_4G              float16\n",
      "ERAB_PS_BLOCKING_RATE_LTE         float16\n",
      "ERAB_PS_BLOCKING_RATE_PLMN_LTE    float16\n",
      "ERAB_PS_DROP_RATE_LTE             float16\n",
      "PART_CQI_QPSK_LTE                 float16\n",
      "PART_MCS_QPSK_LTE                 float16\n",
      "PSSR_LTE                          float16\n",
      "RBU_AVAIL_DL                      float16\n",
      "RBU_AVAIL_DL_LTE                  float16\n",
      "RBU_AVAIL_UL                      float16\n",
      "RBU_OTHER_DL                      float16\n",
      "RBU_OTHER_UL                      float16\n",
      "RBU_OWN_DL                        float16\n",
      "RBU_OWN_UL                        float16\n",
      "RRC_BLOCKING_RATE_LTE             float16\n",
      "UL_VOLUME_LTE                     float16\n",
      "DL_VOLUME_LTE                     float16\n",
      "dtypes: category(1), float16(17), int64(1)\n",
      "memory usage: 670.9 MB\n"
     ]
    }
   ],
   "source": [
    "bs_avg_kpi_4g.info(memory_usage='deep')"
   ]
  },
  {
   "cell_type": "markdown",
   "metadata": {},
   "source": [
    "Теперь можно удалить исходную таблицу `bs_avg_kpi`, она больше не нужна."
   ]
  },
  {
   "cell_type": "code",
   "execution_count": 36,
   "metadata": {
    "ExecuteTime": {
     "end_time": "2018-12-25T09:58:24.538360Z",
     "start_time": "2018-12-25T09:58:24.098193Z"
    },
    "collapsed": true
   },
   "outputs": [],
   "source": [
    "del bs_avg_kpi"
   ]
  },
  {
   "cell_type": "markdown",
   "metadata": {},
   "source": [
    "## Исследование данных сот по поколениям"
   ]
  },
  {
   "cell_type": "markdown",
   "metadata": {},
   "source": [
    "Построим корреляции между показателями одного поколения."
   ]
  },
  {
   "cell_type": "code",
   "execution_count": 37,
   "metadata": {
    "ExecuteTime": {
     "end_time": "2018-12-25T09:58:30.378191Z",
     "start_time": "2018-12-25T09:58:27.770793Z"
    }
   },
   "outputs": [
    {
     "data": {
      "image/png": "[encoded data removed]",
      "text/plain": [
       "<matplotlib.figure.Figure at 0x7f3a75954c88>"
      ]
     },
     "metadata": {},
     "output_type": "display_data"
    }
   ],
   "source": [
    "sns.heatmap(bs_avg_kpi_2g[bs_2g_columns].corr());\n",
    "plt.title('Корреляции между показателями 2G');"
   ]
  },
  {
   "cell_type": "code",
   "execution_count": 38,
   "metadata": {
    "ExecuteTime": {
     "end_time": "2018-12-25T09:59:05.456382Z",
     "start_time": "2018-12-25T09:58:31.453005Z"
    }
   },
   "outputs": [
    {
     "data": {
      "image/png": "[encoded data removed]",
      "text/plain": [
       "<matplotlib.figure.Figure at 0x7f3a72c03d68>"
      ]
     },
     "metadata": {},
     "output_type": "display_data"
    }
   ],
   "source": [
    "sns.heatmap(bs_avg_kpi_3g[bs_3g_columns].corr());\n",
    "plt.title('Корреляции между показателями 3G');"
   ]
  },
  {
   "cell_type": "code",
   "execution_count": 39,
   "metadata": {
    "ExecuteTime": {
     "end_time": "2018-12-25T09:59:19.760937Z",
     "start_time": "2018-12-25T09:59:05.458182Z"
    }
   },
   "outputs": [
    {
     "data": {
      "image/png": "[encoded data removed]",
      "text/plain": [
       "<matplotlib.figure.Figure at 0x7f3a736d0518>"
      ]
     },
     "metadata": {},
     "output_type": "display_data"
    }
   ],
   "source": [
    "sns.heatmap(bs_avg_kpi_4g[bs_4g_columns].corr());\n",
    "plt.title('Корреляции между показателями 4G');"
   ]
  },
  {
   "cell_type": "markdown",
   "metadata": {},
   "source": [
    "Можно посмотреть на пустые значения."
   ]
  },
  {
   "cell_type": "code",
   "execution_count": 40,
   "metadata": {
    "ExecuteTime": {
     "end_time": "2018-12-25T10:03:42.066029Z",
     "start_time": "2018-12-25T10:03:39.670322Z"
    }
   },
   "outputs": [
    {
     "data": {
      "image/png": "[encoded data removed]",
      "text/plain": [
       "<matplotlib.figure.Figure at 0x7f3a758f6be0>"
      ]
     },
     "metadata": {},
     "output_type": "display_data"
    }
   ],
   "source": [
    "(bs_avg_kpi_2g[bs_2g_columns].isnull().sum()/bs_avg_kpi_2g.shape[0]).plot(kind='bar');\n",
    "plt.title('Доли пропущенных значений для показателей 2G');"
   ]
  },
  {
   "cell_type": "code",
   "execution_count": 41,
   "metadata": {
    "ExecuteTime": {
     "end_time": "2018-12-25T10:04:00.809411Z",
     "start_time": "2018-12-25T10:03:43.642383Z"
    }
   },
   "outputs": [
    {
     "data": {
      "image/png": "[encoded data removed]",
      "text/plain": [
       "<matplotlib.figure.Figure at 0x7f3a754b7a58>"
      ]
     },
     "metadata": {},
     "output_type": "display_data"
    }
   ],
   "source": [
    "(bs_avg_kpi_3g[bs_3g_columns].isnull().sum()/bs_avg_kpi_3g.shape[0]).plot(kind='bar');\n",
    "plt.title('Доли пропущенных значений для показателей 3G');"
   ]
  },
  {
   "cell_type": "code",
   "execution_count": 42,
   "metadata": {
    "ExecuteTime": {
     "end_time": "2018-12-25T10:04:06.970618Z",
     "start_time": "2018-12-25T10:04:00.810871Z"
    }
   },
   "outputs": [
    {
     "data": {
      "image/png": "[encoded data removed]",
      "text/plain": [
       "<matplotlib.figure.Figure at 0x7f3a72c06518>"
      ]
     },
     "metadata": {},
     "output_type": "display_data"
    }
   ],
   "source": [
    "(bs_avg_kpi_4g[bs_4g_columns].isnull().sum()/bs_avg_kpi_4g.shape[0]).plot(kind='bar');\n",
    "plt.title('Доли пропущенных значений для показателей 4G');"
   ]
  },
  {
   "cell_type": "markdown",
   "metadata": {},
   "source": [
    "Можно сразу выкинуть показатели со слишком большим количеством пустых значений для 3g и 4g. Конечно, всегда есть возможность, что сам факт наличия непустого значения уже несет какую-то информацию."
   ]
  },
  {
   "cell_type": "code",
   "execution_count": 43,
   "metadata": {
    "ExecuteTime": {
     "end_time": "2018-12-25T10:05:01.796543Z",
     "start_time": "2018-12-25T10:04:46.535813Z"
    }
   },
   "outputs": [
    {
     "data": {
      "text/plain": [
       "PROC_LOAD_3G                 1.000000\n",
       "UTIL_SUBUNITS_3G             1.000000\n",
       "UTIL_CE_UL_3G                1.000000\n",
       "UTIL_CE_HW_DL_3G             1.000000\n",
       "UTIL_BRD_CPU_3G              1.000000\n",
       "HSPDSCH_CODE_UTIL_3G         1.000000\n",
       "RTWP_3G                      1.000000\n",
       "NODEB_CNBAP_LOAD_HARDWARE    1.000000\n",
       "RAB_PS_BLOCKING_RATE_3G      0.984723\n",
       "RAB_CS_BLOCKING_RATE_3G      0.979956\n",
       "RRC_BLOCKING_RATE_3G         0.977783\n",
       "UTIL_CE_DL_3G                0.494886\n",
       "RAB_CS_DROP_RATE_3G          0.408621\n",
       "PSSR_3G                      0.095985\n",
       "RAB_PS_DROP_RATE_3G          0.051837\n",
       "TOTAL_UL_VOLUME_3G           0.036858\n",
       "CSSR_3G                      0.030353\n",
       "SHO_FACTOR                   0.027276\n",
       "TOTAL_DL_VOLUME_3G           0.008815\n",
       "CELL_AVAILABILITY_3G         0.008549\n",
       "dtype: float64"
      ]
     },
     "execution_count": 43,
     "metadata": {},
     "output_type": "execute_result"
    }
   ],
   "source": [
    "(bs_avg_kpi_3g[bs_3g_columns].isnull().sum()/bs_avg_kpi_3g.shape[0]).sort_values(ascending=False)"
   ]
  },
  {
   "cell_type": "code",
   "execution_count": 44,
   "metadata": {
    "ExecuteTime": {
     "end_time": "2018-12-25T10:05:16.207845Z",
     "start_time": "2018-12-25T10:05:16.204270Z"
    },
    "collapsed": true
   },
   "outputs": [],
   "source": [
    "columns_3g_missing = ['PROC_LOAD_3G','UTIL_SUBUNITS_3G','UTIL_CE_UL_3G','UTIL_CE_HW_DL_3G','UTIL_BRD_CPU_3G',\n",
    "                      'HSPDSCH_CODE_UTIL_3G','RTWP_3G','NODEB_CNBAP_LOAD_HARDWARE','RAB_PS_BLOCKING_RATE_3G',\n",
    "                      'RAB_CS_BLOCKING_RATE_3G','RRC_BLOCKING_RATE_3G']"
   ]
  },
  {
   "cell_type": "code",
   "execution_count": 45,
   "metadata": {
    "ExecuteTime": {
     "end_time": "2018-12-25T10:05:25.399714Z",
     "start_time": "2018-12-25T10:05:19.357899Z"
    }
   },
   "outputs": [
    {
     "data": {
      "text/plain": [
       "RBU_AVAIL_DL_LTE                  1.000000\n",
       "CELL_AVAILABILITY_4G              1.000000\n",
       "RBU_OTHER_UL                      0.944913\n",
       "RBU_OTHER_DL                      0.942915\n",
       "ERAB_PS_BLOCKING_RATE_PLMN_LTE    0.491592\n",
       "RBU_OWN_UL                        0.469006\n",
       "RBU_OWN_DL                        0.468994\n",
       "ERAB_PS_DROP_RATE_LTE             0.462217\n",
       "RBU_AVAIL_UL                      0.455615\n",
       "RBU_AVAIL_DL                      0.455615\n",
       "ERAB_PS_BLOCKING_RATE_LTE         0.043325\n",
       "RRC_BLOCKING_RATE_LTE             0.039796\n",
       "PSSR_LTE                          0.003842\n",
       "DL_VOLUME_LTE                     0.000442\n",
       "UL_VOLUME_LTE                     0.000437\n",
       "PART_MCS_QPSK_LTE                 0.000348\n",
       "PART_CQI_QPSK_LTE                 0.000299\n",
       "dtype: float64"
      ]
     },
     "execution_count": 45,
     "metadata": {},
     "output_type": "execute_result"
    }
   ],
   "source": [
    "(bs_avg_kpi_4g[bs_4g_columns].isnull().sum()/bs_avg_kpi_4g.shape[0]).sort_values(ascending=False)"
   ]
  },
  {
   "cell_type": "code",
   "execution_count": 46,
   "metadata": {
    "ExecuteTime": {
     "end_time": "2018-12-25T10:05:28.454842Z",
     "start_time": "2018-12-25T10:05:28.451043Z"
    },
    "collapsed": true
   },
   "outputs": [],
   "source": [
    "columns_4g_missing = ['RBU_AVAIL_DL_LTE','CELL_AVAILABILITY_4G','RBU_OTHER_UL','RBU_OTHER_DL']"
   ]
  },
  {
   "cell_type": "markdown",
   "metadata": {},
   "source": [
    "Удалим эти колонки."
   ]
  },
  {
   "cell_type": "code",
   "execution_count": 47,
   "metadata": {
    "ExecuteTime": {
     "end_time": "2018-12-25T10:05:41.052948Z",
     "start_time": "2018-12-25T10:05:38.510155Z"
    },
    "collapsed": true
   },
   "outputs": [],
   "source": [
    "bs_avg_kpi_3g.drop(labels=columns_3g_missing, axis=1, inplace=True)\n",
    "bs_avg_kpi_4g.drop(labels=columns_4g_missing, axis=1, inplace=True)"
   ]
  },
  {
   "cell_type": "code",
   "execution_count": 48,
   "metadata": {
    "ExecuteTime": {
     "end_time": "2018-12-25T10:05:41.057430Z",
     "start_time": "2018-12-25T10:05:41.054264Z"
    },
    "collapsed": true
   },
   "outputs": [],
   "source": [
    "bs_3g_columns = [c for c in bs_3g_columns if c not in columns_3g_missing]\n",
    "bs_4g_columns = [c for c in bs_4g_columns if c not in columns_4g_missing]"
   ]
  },
  {
   "cell_type": "markdown",
   "metadata": {},
   "source": [
    "Аналогично можно посмотреть на колонки с маленьким количеством уникальных значений."
   ]
  },
  {
   "cell_type": "code",
   "execution_count": 49,
   "metadata": {
    "ExecuteTime": {
     "end_time": "2018-12-25T10:05:45.318838Z",
     "start_time": "2018-12-25T10:05:43.657438Z"
    }
   },
   "outputs": [
    {
     "data": {
      "image/png": "[encoded data removed]",
      "text/plain": [
       "<matplotlib.figure.Figure at 0x7f3a72c40160>"
      ]
     },
     "metadata": {},
     "output_type": "display_data"
    }
   ],
   "source": [
    "bs_avg_kpi_2g[bs_2g_columns].nunique().plot(kind='bar');\n",
    "plt.title('Количество уникальных значений для показателей 2G');"
   ]
  },
  {
   "cell_type": "code",
   "execution_count": 50,
   "metadata": {
    "ExecuteTime": {
     "end_time": "2018-12-25T10:05:53.242947Z",
     "start_time": "2018-12-25T10:05:45.320102Z"
    }
   },
   "outputs": [
    {
     "data": {
      "image/png": "[encoded data removed]",
      "text/plain": [
       "<matplotlib.figure.Figure at 0x7f3a72b19b38>"
      ]
     },
     "metadata": {},
     "output_type": "display_data"
    }
   ],
   "source": [
    "bs_avg_kpi_3g[bs_3g_columns].nunique().plot(kind='bar');\n",
    "plt.title('Количество уникальных значений для показателей 3G');"
   ]
  },
  {
   "cell_type": "code",
   "execution_count": 51,
   "metadata": {
    "ExecuteTime": {
     "end_time": "2018-12-25T10:05:57.622129Z",
     "start_time": "2018-12-25T10:05:53.244862Z"
    }
   },
   "outputs": [
    {
     "data": {
      "image/png": "[encoded data removed]",
      "text/plain": [
       "<matplotlib.figure.Figure at 0x7f3a753e5ef0>"
      ]
     },
     "metadata": {},
     "output_type": "display_data"
    }
   ],
   "source": [
    "bs_avg_kpi_4g[bs_4g_columns].nunique().plot(kind='bar');\n",
    "plt.title('Количество уникальных значений для показателей 4G');"
   ]
  },
  {
   "cell_type": "markdown",
   "metadata": {},
   "source": [
    "Наблюдаем какую-то явную аномалию по показателям 4G. Выкинем эти колонки. Опять же, есть вероятность, что даже с малым количеством переменная несет информацию, так что этот шаг можно и не делать. "
   ]
  },
  {
   "cell_type": "code",
   "execution_count": 52,
   "metadata": {
    "ExecuteTime": {
     "end_time": "2018-12-25T10:07:57.541500Z",
     "start_time": "2018-12-25T10:07:52.960890Z"
    }
   },
   "outputs": [
    {
     "data": {
      "text/plain": [
       "RBU_AVAIL_UL                         10\n",
       "RBU_AVAIL_DL                         11\n",
       "PSSR_LTE                             13\n",
       "PART_MCS_QPSK_LTE                  5796\n",
       "ERAB_PS_DROP_RATE_LTE              9245\n",
       "UL_VOLUME_LTE                     10154\n",
       "ERAB_PS_BLOCKING_RATE_PLMN_LTE    10175\n",
       "RBU_OWN_DL                        10183\n",
       "RRC_BLOCKING_RATE_LTE             10285\n",
       "DL_VOLUME_LTE                     10387\n",
       "RBU_OWN_UL                        10605\n",
       "ERAB_PS_BLOCKING_RATE_LTE         10864\n",
       "PART_CQI_QPSK_LTE                 10972\n",
       "dtype: int64"
      ]
     },
     "execution_count": 52,
     "metadata": {},
     "output_type": "execute_result"
    }
   ],
   "source": [
    "bs_avg_kpi_4g[bs_4g_columns].nunique().sort_values()"
   ]
  },
  {
   "cell_type": "code",
   "execution_count": 53,
   "metadata": {
    "ExecuteTime": {
     "end_time": "2018-12-25T10:07:59.611917Z",
     "start_time": "2018-12-25T10:07:59.609245Z"
    },
    "collapsed": true
   },
   "outputs": [],
   "source": [
    "columns_too_few_4g = ['RBU_AVAIL_UL', 'RBU_AVAIL_DL', 'PSSR_LTE']"
   ]
  },
  {
   "cell_type": "code",
   "execution_count": 54,
   "metadata": {
    "ExecuteTime": {
     "end_time": "2018-12-25T10:08:00.883787Z",
     "start_time": "2018-12-25T10:08:00.220608Z"
    },
    "collapsed": true
   },
   "outputs": [],
   "source": [
    "bs_avg_kpi_4g.drop(labels=columns_too_few_4g, axis=1, inplace=True)"
   ]
  },
  {
   "cell_type": "code",
   "execution_count": 55,
   "metadata": {
    "ExecuteTime": {
     "end_time": "2018-12-25T10:08:01.629470Z",
     "start_time": "2018-12-25T10:08:01.626478Z"
    },
    "collapsed": true
   },
   "outputs": [],
   "source": [
    "bs_4g_columns = [c for c in bs_4g_columns if c not in columns_too_few_4g]"
   ]
  },
  {
   "cell_type": "markdown",
   "metadata": {},
   "source": [
    "Пересчитаем корреляции."
   ]
  },
  {
   "cell_type": "code",
   "execution_count": 56,
   "metadata": {
    "ExecuteTime": {
     "end_time": "2018-12-25T10:08:18.458433Z",
     "start_time": "2018-12-25T10:08:03.232480Z"
    }
   },
   "outputs": [
    {
     "data": {
      "image/png": "[encoded data removed]",
      "text/plain": [
       "<matplotlib.figure.Figure at 0x7f3a72a93a90>"
      ]
     },
     "metadata": {},
     "output_type": "display_data"
    }
   ],
   "source": [
    "sns.heatmap(bs_avg_kpi_3g[bs_3g_columns].corr());\n",
    "plt.title('Корреляции между показателями 3G');"
   ]
  },
  {
   "cell_type": "code",
   "execution_count": 57,
   "metadata": {
    "ExecuteTime": {
     "end_time": "2018-12-25T10:08:24.588710Z",
     "start_time": "2018-12-25T10:08:18.459818Z"
    }
   },
   "outputs": [
    {
     "data": {
      "image/png": "[encoded data removed]",
      "text/plain": [
       "<matplotlib.figure.Figure at 0x7f3a72d42f28>"
      ]
     },
     "metadata": {},
     "output_type": "display_data"
    }
   ],
   "source": [
    "sns.heatmap(bs_avg_kpi_4g[bs_4g_columns].corr());\n",
    "plt.title('Корреляции между показателями 4G');"
   ]
  },
  {
   "cell_type": "markdown",
   "metadata": {},
   "source": [
    "Дальше можно двигаться несколькими путями. Можно попробовать заполнить пустые значения. Можно использовать метод главных компонент для сокращения размерности. Можно попробовать найти аномальные соты по одному или по нескольким показателям. Можно провести кластерный анализ и выделить группы похожих сот."
   ]
  },
  {
   "cell_type": "markdown",
   "metadata": {},
   "source": [
    "Для заполнения пропущенных значений можно воспользоваться особенностями структуры данных. В таблице лежат исторические данные по каждой соте. Пропущенное значение означает, что по какой-то соте нет измерения в определенный момент времени. Тогда для заполнения этого значния можно воспользоваться ожидаемым показателем измерения именно по этой соте. Возможно, с учетом дня недели (выходной/рабочий). Например, если по какому-то показателю у определенной соты нет измерения за некоторый рабочий день, можно заполнить его средним значением показателя у этой соты в другие рабочие дни."
   ]
  },
  {
   "cell_type": "markdown",
   "metadata": {
    "ExecuteTime": {
     "end_time": "2018-12-20T13:10:06.794101Z",
     "start_time": "2018-12-20T13:10:06.790607Z"
    }
   },
   "source": [
    "Пример. Найдем соту 4G с пропущенным значением `DL_VOLUME_LTE`."
   ]
  },
  {
   "cell_type": "code",
   "execution_count": 58,
   "metadata": {
    "ExecuteTime": {
     "end_time": "2018-12-25T10:10:03.848633Z",
     "start_time": "2018-12-25T10:10:03.754671Z"
    }
   },
   "outputs": [
    {
     "data": {
      "text/html": [
       "<div>\n",
       "<style>\n",
       "    .dataframe thead tr:only-child th {\n",
       "        text-align: right;\n",
       "    }\n",
       "\n",
       "    .dataframe thead th {\n",
       "        text-align: left;\n",
       "    }\n",
       "\n",
       "    .dataframe tbody tr th {\n",
       "        vertical-align: top;\n",
       "    }\n",
       "</style>\n",
       "<table border=\"1\" class=\"dataframe\">\n",
       "  <thead>\n",
       "    <tr style=\"text-align: right;\">\n",
       "      <th></th>\n",
       "      <th>T_DATE</th>\n",
       "      <th>CELL_LAC_ID</th>\n",
       "      <th>ERAB_PS_BLOCKING_RATE_LTE</th>\n",
       "      <th>ERAB_PS_BLOCKING_RATE_PLMN_LTE</th>\n",
       "      <th>ERAB_PS_DROP_RATE_LTE</th>\n",
       "      <th>PART_CQI_QPSK_LTE</th>\n",
       "      <th>PART_MCS_QPSK_LTE</th>\n",
       "      <th>RBU_OWN_DL</th>\n",
       "      <th>RBU_OWN_UL</th>\n",
       "      <th>RRC_BLOCKING_RATE_LTE</th>\n",
       "      <th>UL_VOLUME_LTE</th>\n",
       "      <th>DL_VOLUME_LTE</th>\n",
       "    </tr>\n",
       "  </thead>\n",
       "  <tbody>\n",
       "    <tr>\n",
       "      <th>3877</th>\n",
       "      <td>04.01</td>\n",
       "      <td>256917</td>\n",
       "      <td>1.0</td>\n",
       "      <td>NaN</td>\n",
       "      <td>NaN</td>\n",
       "      <td>0.063049</td>\n",
       "      <td>0.951660</td>\n",
       "      <td>NaN</td>\n",
       "      <td>NaN</td>\n",
       "      <td>0.003311</td>\n",
       "      <td>NaN</td>\n",
       "      <td>NaN</td>\n",
       "    </tr>\n",
       "    <tr>\n",
       "      <th>27325</th>\n",
       "      <td>14.05</td>\n",
       "      <td>463816</td>\n",
       "      <td>NaN</td>\n",
       "      <td>NaN</td>\n",
       "      <td>NaN</td>\n",
       "      <td>NaN</td>\n",
       "      <td>NaN</td>\n",
       "      <td>NaN</td>\n",
       "      <td>NaN</td>\n",
       "      <td>NaN</td>\n",
       "      <td>NaN</td>\n",
       "      <td>NaN</td>\n",
       "    </tr>\n",
       "    <tr>\n",
       "      <th>41176</th>\n",
       "      <td>16.05</td>\n",
       "      <td>371595</td>\n",
       "      <td>NaN</td>\n",
       "      <td>NaN</td>\n",
       "      <td>NaN</td>\n",
       "      <td>0.433105</td>\n",
       "      <td>0.983398</td>\n",
       "      <td>NaN</td>\n",
       "      <td>NaN</td>\n",
       "      <td>NaN</td>\n",
       "      <td>NaN</td>\n",
       "      <td>NaN</td>\n",
       "    </tr>\n",
       "    <tr>\n",
       "      <th>57275</th>\n",
       "      <td>03.01</td>\n",
       "      <td>264597</td>\n",
       "      <td>NaN</td>\n",
       "      <td>NaN</td>\n",
       "      <td>NaN</td>\n",
       "      <td>NaN</td>\n",
       "      <td>1.000000</td>\n",
       "      <td>NaN</td>\n",
       "      <td>NaN</td>\n",
       "      <td>NaN</td>\n",
       "      <td>NaN</td>\n",
       "      <td>NaN</td>\n",
       "    </tr>\n",
       "    <tr>\n",
       "      <th>58258</th>\n",
       "      <td>30.01</td>\n",
       "      <td>55518</td>\n",
       "      <td>NaN</td>\n",
       "      <td>NaN</td>\n",
       "      <td>NaN</td>\n",
       "      <td>0.344238</td>\n",
       "      <td>0.460449</td>\n",
       "      <td>0.001495</td>\n",
       "      <td>NaN</td>\n",
       "      <td>NaN</td>\n",
       "      <td>NaN</td>\n",
       "      <td>NaN</td>\n",
       "    </tr>\n",
       "  </tbody>\n",
       "</table>\n",
       "</div>"
      ],
      "text/plain": [
       "      T_DATE  CELL_LAC_ID  ERAB_PS_BLOCKING_RATE_LTE  \\\n",
       "3877   04.01       256917                        1.0   \n",
       "27325  14.05       463816                        NaN   \n",
       "41176  16.05       371595                        NaN   \n",
       "57275  03.01       264597                        NaN   \n",
       "58258  30.01        55518                        NaN   \n",
       "\n",
       "       ERAB_PS_BLOCKING_RATE_PLMN_LTE  ERAB_PS_DROP_RATE_LTE  \\\n",
       "3877                              NaN                    NaN   \n",
       "27325                             NaN                    NaN   \n",
       "41176                             NaN                    NaN   \n",
       "57275                             NaN                    NaN   \n",
       "58258                             NaN                    NaN   \n",
       "\n",
       "       PART_CQI_QPSK_LTE  PART_MCS_QPSK_LTE  RBU_OWN_DL  RBU_OWN_UL  \\\n",
       "3877            0.063049           0.951660         NaN         NaN   \n",
       "27325                NaN                NaN         NaN         NaN   \n",
       "41176           0.433105           0.983398         NaN         NaN   \n",
       "57275                NaN           1.000000         NaN         NaN   \n",
       "58258           0.344238           0.460449    0.001495         NaN   \n",
       "\n",
       "       RRC_BLOCKING_RATE_LTE  UL_VOLUME_LTE  DL_VOLUME_LTE  \n",
       "3877                0.003311            NaN            NaN  \n",
       "27325                    NaN            NaN            NaN  \n",
       "41176                    NaN            NaN            NaN  \n",
       "57275                    NaN            NaN            NaN  \n",
       "58258                    NaN            NaN            NaN  "
      ]
     },
     "execution_count": 58,
     "metadata": {},
     "output_type": "execute_result"
    }
   ],
   "source": [
    "bs_avg_kpi_4g[bs_avg_kpi_4g['DL_VOLUME_LTE'].isnull()].head()"
   ]
  },
  {
   "cell_type": "markdown",
   "metadata": {},
   "source": [
    "Построим по ней график зависимости показателя от времени."
   ]
  },
  {
   "cell_type": "code",
   "execution_count": 59,
   "metadata": {
    "ExecuteTime": {
     "end_time": "2018-12-25T10:10:11.132384Z",
     "start_time": "2018-12-25T10:10:10.906246Z"
    }
   },
   "outputs": [
    {
     "data": {
      "image/png": "[encoded data removed]",
      "text/plain": [
       "<matplotlib.figure.Figure at 0x7f3aa89ba160>"
      ]
     },
     "metadata": {},
     "output_type": "display_data"
    }
   ],
   "source": [
    "cell_history = bs_avg_kpi_4g.loc[bs_avg_kpi_4g['CELL_LAC_ID']==55518, ['T_DATE', 'DL_VOLUME_LTE']]\n",
    "\n",
    "cell_history['date'] = pd.to_datetime(cell_history['T_DATE'].astype(str) + '.02', dayfirst=True)\n",
    "\n",
    "cell_history = cell_history.sort_values('date')\n",
    "\n",
    "plt.figure(figsize=(10,5));\n",
    "plt.plot(cell_history['date'], cell_history['DL_VOLUME_LTE'], '-o');\n",
    "plt.title('Данные по показателю DL_VOLUME_LTE соты 55518');"
   ]
  },
  {
   "cell_type": "markdown",
   "metadata": {},
   "source": [
    "Глядя на этот график, становится очевидным, что пропущенные значения нужно заполнять с учетом значений из похожих дней для этой соты. Здесь отчетливо виден недельный цикл (а если присмотреться, то видны и праздники марта и мая), так что среднее значение для заполнения нужно брать с учетом этого цикла."
   ]
  },
  {
   "cell_type": "markdown",
   "metadata": {},
   "source": [
    "Аналогичные действия можно проделать с данными в таблице `bs_chnn_kpi`, при этом мы уже знаем принадлежность каждой соты к поколениям."
   ]
  },
  {
   "cell_type": "markdown",
   "metadata": {},
   "source": [
    "## Определение поколения телефона абонента"
   ]
  },
  {
   "cell_type": "markdown",
   "metadata": {},
   "source": [
    "Для начала загрузим таблицу `subs_features`."
   ]
  },
  {
   "cell_type": "code",
   "execution_count": 60,
   "metadata": {
    "ExecuteTime": {
     "end_time": "2018-12-25T10:10:23.836455Z",
     "start_time": "2018-12-25T10:10:23.362008Z"
    },
    "collapsed": true
   },
   "outputs": [],
   "source": [
    "subs_features_train = pd.read_csv(os.path.join(PATH, 'subs_features_train.csv'), sep=';', decimal=',')\n",
    "subs_features_test = pd.read_csv(os.path.join(PATH, 'subs_features_test.csv'), sep=';', decimal=',')"
   ]
  },
  {
   "cell_type": "code",
   "execution_count": 61,
   "metadata": {
    "ExecuteTime": {
     "end_time": "2018-12-25T10:10:24.765509Z",
     "start_time": "2018-12-25T10:10:24.737237Z"
    },
    "collapsed": true
   },
   "outputs": [],
   "source": [
    "subs_features = pd.concat([subs_features_train, subs_features_test])"
   ]
  },
  {
   "cell_type": "code",
   "execution_count": 62,
   "metadata": {
    "ExecuteTime": {
     "end_time": "2018-12-25T10:10:25.798135Z",
     "start_time": "2018-12-25T10:10:25.664448Z"
    }
   },
   "outputs": [
    {
     "data": {
      "text/html": [
       "<div>\n",
       "<style>\n",
       "    .dataframe thead tr:only-child th {\n",
       "        text-align: right;\n",
       "    }\n",
       "\n",
       "    .dataframe thead th {\n",
       "        text-align: left;\n",
       "    }\n",
       "\n",
       "    .dataframe tbody tr th {\n",
       "        vertical-align: top;\n",
       "    }\n",
       "</style>\n",
       "<table border=\"1\" class=\"dataframe\">\n",
       "  <thead>\n",
       "    <tr style=\"text-align: right;\">\n",
       "      <th></th>\n",
       "      <th>SNAP_DATE</th>\n",
       "      <th>COM_CAT#1</th>\n",
       "      <th>SK_ID</th>\n",
       "      <th>COM_CAT#2</th>\n",
       "      <th>COM_CAT#3</th>\n",
       "      <th>BASE_TYPE</th>\n",
       "      <th>ACT</th>\n",
       "      <th>ARPU_GROUP</th>\n",
       "      <th>COM_CAT#7</th>\n",
       "      <th>COM_CAT#8</th>\n",
       "      <th>...</th>\n",
       "      <th>COM_CAT#25</th>\n",
       "      <th>COM_CAT#26</th>\n",
       "      <th>COM_CAT#27</th>\n",
       "      <th>COM_CAT#28</th>\n",
       "      <th>COM_CAT#29</th>\n",
       "      <th>COM_CAT#30</th>\n",
       "      <th>COM_CAT#31</th>\n",
       "      <th>COM_CAT#32</th>\n",
       "      <th>COM_CAT#33</th>\n",
       "      <th>COM_CAT#34</th>\n",
       "    </tr>\n",
       "  </thead>\n",
       "  <tbody>\n",
       "    <tr>\n",
       "      <th>0</th>\n",
       "      <td>01.08.01</td>\n",
       "      <td>4</td>\n",
       "      <td>3339</td>\n",
       "      <td>80</td>\n",
       "      <td>5</td>\n",
       "      <td>2</td>\n",
       "      <td>1</td>\n",
       "      <td>12.0</td>\n",
       "      <td>1</td>\n",
       "      <td>1489.0</td>\n",
       "      <td>...</td>\n",
       "      <td>1</td>\n",
       "      <td>1</td>\n",
       "      <td>0.031696</td>\n",
       "      <td>0.076724</td>\n",
       "      <td>0.040279</td>\n",
       "      <td>0.0133</td>\n",
       "      <td>0.083382</td>\n",
       "      <td>0.027579</td>\n",
       "      <td>0.103896</td>\n",
       "      <td>2.0</td>\n",
       "    </tr>\n",
       "    <tr>\n",
       "      <th>1</th>\n",
       "      <td>01.08.01</td>\n",
       "      <td>4</td>\n",
       "      <td>238</td>\n",
       "      <td>75</td>\n",
       "      <td>5</td>\n",
       "      <td>2</td>\n",
       "      <td>1</td>\n",
       "      <td>7.0</td>\n",
       "      <td>1</td>\n",
       "      <td>945.0</td>\n",
       "      <td>...</td>\n",
       "      <td>1</td>\n",
       "      <td>1</td>\n",
       "      <td>0.015893</td>\n",
       "      <td>0.012981</td>\n",
       "      <td>0.000000</td>\n",
       "      <td>0.0000</td>\n",
       "      <td>0.048930</td>\n",
       "      <td>0.027579</td>\n",
       "      <td>0.103896</td>\n",
       "      <td>3.0</td>\n",
       "    </tr>\n",
       "    <tr>\n",
       "      <th>2</th>\n",
       "      <td>01.08.01</td>\n",
       "      <td>4</td>\n",
       "      <td>4669</td>\n",
       "      <td>43</td>\n",
       "      <td>5</td>\n",
       "      <td>2</td>\n",
       "      <td>1</td>\n",
       "      <td>3.0</td>\n",
       "      <td>3</td>\n",
       "      <td>1033.0</td>\n",
       "      <td>...</td>\n",
       "      <td>1</td>\n",
       "      <td>1</td>\n",
       "      <td>0.000415</td>\n",
       "      <td>0.000000</td>\n",
       "      <td>0.000000</td>\n",
       "      <td>0.0000</td>\n",
       "      <td>0.009397</td>\n",
       "      <td>0.027579</td>\n",
       "      <td>0.103896</td>\n",
       "      <td>3.0</td>\n",
       "    </tr>\n",
       "    <tr>\n",
       "      <th>3</th>\n",
       "      <td>01.08.01</td>\n",
       "      <td>4</td>\n",
       "      <td>2555</td>\n",
       "      <td>54</td>\n",
       "      <td>5</td>\n",
       "      <td>2</td>\n",
       "      <td>1</td>\n",
       "      <td>12.0</td>\n",
       "      <td>1</td>\n",
       "      <td>512.0</td>\n",
       "      <td>...</td>\n",
       "      <td>1</td>\n",
       "      <td>1</td>\n",
       "      <td>0.046510</td>\n",
       "      <td>0.039486</td>\n",
       "      <td>0.000829</td>\n",
       "      <td>0.0000</td>\n",
       "      <td>0.196676</td>\n",
       "      <td>0.027579</td>\n",
       "      <td>0.103896</td>\n",
       "      <td>1.0</td>\n",
       "    </tr>\n",
       "    <tr>\n",
       "      <th>4</th>\n",
       "      <td>01.08.01</td>\n",
       "      <td>4</td>\n",
       "      <td>2291</td>\n",
       "      <td>38</td>\n",
       "      <td>5</td>\n",
       "      <td>2</td>\n",
       "      <td>1</td>\n",
       "      <td>7.0</td>\n",
       "      <td>1</td>\n",
       "      <td>1268.0</td>\n",
       "      <td>...</td>\n",
       "      <td>1</td>\n",
       "      <td>1</td>\n",
       "      <td>0.005393</td>\n",
       "      <td>0.007385</td>\n",
       "      <td>0.003884</td>\n",
       "      <td>0.0000</td>\n",
       "      <td>0.047297</td>\n",
       "      <td>0.027579</td>\n",
       "      <td>0.103896</td>\n",
       "      <td>6.0</td>\n",
       "    </tr>\n",
       "  </tbody>\n",
       "</table>\n",
       "<p>5 rows × 36 columns</p>\n",
       "</div>"
      ],
      "text/plain": [
       "  SNAP_DATE  COM_CAT#1  SK_ID  COM_CAT#2  COM_CAT#3  BASE_TYPE  ACT  \\\n",
       "0  01.08.01          4   3339         80          5          2    1   \n",
       "1  01.08.01          4    238         75          5          2    1   \n",
       "2  01.08.01          4   4669         43          5          2    1   \n",
       "3  01.08.01          4   2555         54          5          2    1   \n",
       "4  01.08.01          4   2291         38          5          2    1   \n",
       "\n",
       "   ARPU_GROUP  COM_CAT#7  COM_CAT#8     ...      COM_CAT#25  COM_CAT#26  \\\n",
       "0        12.0          1     1489.0     ...               1           1   \n",
       "1         7.0          1      945.0     ...               1           1   \n",
       "2         3.0          3     1033.0     ...               1           1   \n",
       "3        12.0          1      512.0     ...               1           1   \n",
       "4         7.0          1     1268.0     ...               1           1   \n",
       "\n",
       "   COM_CAT#27  COM_CAT#28  COM_CAT#29  COM_CAT#30  COM_CAT#31  COM_CAT#32  \\\n",
       "0    0.031696    0.076724    0.040279      0.0133    0.083382    0.027579   \n",
       "1    0.015893    0.012981    0.000000      0.0000    0.048930    0.027579   \n",
       "2    0.000415    0.000000    0.000000      0.0000    0.009397    0.027579   \n",
       "3    0.046510    0.039486    0.000829      0.0000    0.196676    0.027579   \n",
       "4    0.005393    0.007385    0.003884      0.0000    0.047297    0.027579   \n",
       "\n",
       "   COM_CAT#33  COM_CAT#34  \n",
       "0    0.103896         2.0  \n",
       "1    0.103896         3.0  \n",
       "2    0.103896         3.0  \n",
       "3    0.103896         1.0  \n",
       "4    0.103896         6.0  \n",
       "\n",
       "[5 rows x 36 columns]"
      ]
     },
     "execution_count": 62,
     "metadata": {},
     "output_type": "execute_result"
    }
   ],
   "source": [
    "subs_features.head()"
   ]
  },
  {
   "cell_type": "markdown",
   "metadata": {},
   "source": [
    "Возьмем данные за последний месяц."
   ]
  },
  {
   "cell_type": "code",
   "execution_count": 63,
   "metadata": {
    "ExecuteTime": {
     "end_time": "2018-12-25T10:10:34.059293Z",
     "start_time": "2018-12-25T10:10:34.006895Z"
    },
    "collapsed": true
   },
   "outputs": [],
   "source": [
    "subs_phone_types = subs_features[subs_features['SNAP_DATE'] == '01.05.02'][['SK_ID', 'INTERNET_TYPE_ID']]"
   ]
  },
  {
   "cell_type": "markdown",
   "metadata": {},
   "source": [
    "Какие бывают значения поля `INTERNET_TYPE_ID`?"
   ]
  },
  {
   "cell_type": "code",
   "execution_count": 64,
   "metadata": {
    "ExecuteTime": {
     "end_time": "2018-12-25T10:10:35.878186Z",
     "start_time": "2018-12-25T10:10:35.724105Z"
    }
   },
   "outputs": [
    {
     "data": {
      "image/png": "[encoded data removed]",
      "text/plain": [
       "<matplotlib.figure.Figure at 0x7f3a72dff048>"
      ]
     },
     "metadata": {},
     "output_type": "display_data"
    }
   ],
   "source": [
    "subs_phone_types['INTERNET_TYPE_ID'].value_counts(dropna=False).sort_index().plot(kind='bar');\n",
    "plt.title('Значения поля INTERNET_TYPE_ID');"
   ]
  },
  {
   "cell_type": "markdown",
   "metadata": {},
   "source": [
    "Видим три значения. Кроме того, бывают пропущенные значения. Видимо, это случаи, когда не получилось определить поколение телефона. Таких людей мало, так что это не критично. \n",
    "\n",
    "Итак, есть три возможноых значения - 1, 2 и 3. Как понять, какой из этих идентификаторов соответствует какому поколению телефона? Воспользуемся простой идеей. Не секрет, что через телефон 2G тяжело скачать большой объем данных. В то же время через телефон 4G большой объем данных прокачать уже можно. Телефоны 3G занимают промежуточное положение. Значит, можно посмотреть на объемы интернет-трафика, прокачиваемые в среднем на каждый тип телефона, и по нему определить поколения."
   ]
  },
  {
   "cell_type": "markdown",
   "metadata": {},
   "source": [
    "Объемы скачанного трафика можно посмотреть в таблице `subs_bs_consumption`. Загрузим ее."
   ]
  },
  {
   "cell_type": "code",
   "execution_count": 65,
   "metadata": {
    "ExecuteTime": {
     "end_time": "2018-12-25T10:11:11.654717Z",
     "start_time": "2018-12-25T10:11:09.874907Z"
    },
    "collapsed": true
   },
   "outputs": [],
   "source": [
    "subs_bs_consumption_train = pd.read_csv(os.path.join(PATH, 'subs_bs_consumption_train.csv'), sep=';', decimal=',')\n",
    "subs_bs_consumption_test = pd.read_csv(os.path.join(PATH, 'subs_bs_consumption_test.csv'), sep=';', decimal=',')"
   ]
  },
  {
   "cell_type": "code",
   "execution_count": 66,
   "metadata": {
    "ExecuteTime": {
     "end_time": "2018-12-25T10:11:12.480312Z",
     "start_time": "2018-12-25T10:11:12.403143Z"
    },
    "collapsed": true
   },
   "outputs": [],
   "source": [
    "subs_bs_consumption = pd.concat([subs_bs_consumption_train, subs_bs_consumption_test])"
   ]
  },
  {
   "cell_type": "code",
   "execution_count": 68,
   "metadata": {
    "ExecuteTime": {
     "end_time": "2018-12-25T10:11:27.021421Z",
     "start_time": "2018-12-25T10:11:26.621494Z"
    }
   },
   "outputs": [
    {
     "data": {
      "text/plain": [
       "01.02    377460\n",
       "01.03    782819\n",
       "01.04    700463\n",
       "01.05    411256\n",
       "Name: MON, dtype: int64"
      ]
     },
     "execution_count": 68,
     "metadata": {},
     "output_type": "execute_result"
    }
   ],
   "source": [
    "subs_bs_consumption['MON'].value_counts().sort_index()"
   ]
  },
  {
   "cell_type": "code",
   "execution_count": 69,
   "metadata": {
    "ExecuteTime": {
     "end_time": "2018-12-25T10:11:56.770085Z",
     "start_time": "2018-12-25T10:11:56.294056Z"
    }
   },
   "outputs": [
    {
     "data": {
      "image/png": "[encoded data removed]",
      "text/plain": [
       "<matplotlib.figure.Figure at 0x7f3a72d5f8d0>"
      ]
     },
     "metadata": {},
     "output_type": "display_data"
    }
   ],
   "source": [
    "(subs_phone_types\n",
    "     .merge(subs_bs_consumption[subs_bs_consumption['MON']=='01.05'], on='SK_ID')\n",
    "     .groupby('INTERNET_TYPE_ID')\n",
    "     ['SUM_DATA_MB'].mean()\n",
    ").plot(kind='bar');\n",
    "plt.title('Средние объемы трафика на абонента по поколениям телефона');"
   ]
  },
  {
   "cell_type": "markdown",
   "metadata": {},
   "source": [
    "Итак, можно предположить, что идентификатор 2 соответствует поколению телефона 4g, 1 - 3g и 3 - 2g."
   ]
  },
  {
   "cell_type": "markdown",
   "metadata": {},
   "source": [
    "Добавим информацию о поколении телефона в исходные данные."
   ]
  },
  {
   "cell_type": "code",
   "execution_count": 70,
   "metadata": {
    "ExecuteTime": {
     "end_time": "2018-12-25T10:12:02.620201Z",
     "start_time": "2018-12-25T10:12:02.528779Z"
    },
    "collapsed": true
   },
   "outputs": [],
   "source": [
    "subs_features['PHONE_GEN'] = np.nan\n",
    "subs_features.loc[subs_features['INTERNET_TYPE_ID'] == 1, 'PHONE_GEN'] = '3G'\n",
    "subs_features.loc[subs_features['INTERNET_TYPE_ID'] == 2, 'PHONE_GEN'] = '4G'\n",
    "subs_features.loc[subs_features['INTERNET_TYPE_ID'] == 3, 'PHONE_GEN'] = '2G'"
   ]
  },
  {
   "cell_type": "code",
   "execution_count": 71,
   "metadata": {
    "ExecuteTime": {
     "end_time": "2018-12-25T10:12:05.452912Z",
     "start_time": "2018-12-25T10:12:05.425264Z"
    }
   },
   "outputs": [
    {
     "data": {
      "text/html": [
       "<div>\n",
       "<style>\n",
       "    .dataframe thead tr:only-child th {\n",
       "        text-align: right;\n",
       "    }\n",
       "\n",
       "    .dataframe thead th {\n",
       "        text-align: left;\n",
       "    }\n",
       "\n",
       "    .dataframe tbody tr th {\n",
       "        vertical-align: top;\n",
       "    }\n",
       "</style>\n",
       "<table border=\"1\" class=\"dataframe\">\n",
       "  <thead>\n",
       "    <tr style=\"text-align: right;\">\n",
       "      <th></th>\n",
       "      <th>SNAP_DATE</th>\n",
       "      <th>COM_CAT#1</th>\n",
       "      <th>SK_ID</th>\n",
       "      <th>COM_CAT#2</th>\n",
       "      <th>COM_CAT#3</th>\n",
       "      <th>BASE_TYPE</th>\n",
       "      <th>ACT</th>\n",
       "      <th>ARPU_GROUP</th>\n",
       "      <th>COM_CAT#7</th>\n",
       "      <th>COM_CAT#8</th>\n",
       "      <th>...</th>\n",
       "      <th>COM_CAT#26</th>\n",
       "      <th>COM_CAT#27</th>\n",
       "      <th>COM_CAT#28</th>\n",
       "      <th>COM_CAT#29</th>\n",
       "      <th>COM_CAT#30</th>\n",
       "      <th>COM_CAT#31</th>\n",
       "      <th>COM_CAT#32</th>\n",
       "      <th>COM_CAT#33</th>\n",
       "      <th>COM_CAT#34</th>\n",
       "      <th>PHONE_GEN</th>\n",
       "    </tr>\n",
       "  </thead>\n",
       "  <tbody>\n",
       "    <tr>\n",
       "      <th>0</th>\n",
       "      <td>01.08.01</td>\n",
       "      <td>4</td>\n",
       "      <td>3339</td>\n",
       "      <td>80</td>\n",
       "      <td>5</td>\n",
       "      <td>2</td>\n",
       "      <td>1</td>\n",
       "      <td>12.0</td>\n",
       "      <td>1</td>\n",
       "      <td>1489.0</td>\n",
       "      <td>...</td>\n",
       "      <td>1</td>\n",
       "      <td>0.031696</td>\n",
       "      <td>0.076724</td>\n",
       "      <td>0.040279</td>\n",
       "      <td>0.0133</td>\n",
       "      <td>0.083382</td>\n",
       "      <td>0.027579</td>\n",
       "      <td>0.103896</td>\n",
       "      <td>2.0</td>\n",
       "      <td>4G</td>\n",
       "    </tr>\n",
       "    <tr>\n",
       "      <th>1</th>\n",
       "      <td>01.08.01</td>\n",
       "      <td>4</td>\n",
       "      <td>238</td>\n",
       "      <td>75</td>\n",
       "      <td>5</td>\n",
       "      <td>2</td>\n",
       "      <td>1</td>\n",
       "      <td>7.0</td>\n",
       "      <td>1</td>\n",
       "      <td>945.0</td>\n",
       "      <td>...</td>\n",
       "      <td>1</td>\n",
       "      <td>0.015893</td>\n",
       "      <td>0.012981</td>\n",
       "      <td>0.000000</td>\n",
       "      <td>0.0000</td>\n",
       "      <td>0.048930</td>\n",
       "      <td>0.027579</td>\n",
       "      <td>0.103896</td>\n",
       "      <td>3.0</td>\n",
       "      <td>2G</td>\n",
       "    </tr>\n",
       "    <tr>\n",
       "      <th>2</th>\n",
       "      <td>01.08.01</td>\n",
       "      <td>4</td>\n",
       "      <td>4669</td>\n",
       "      <td>43</td>\n",
       "      <td>5</td>\n",
       "      <td>2</td>\n",
       "      <td>1</td>\n",
       "      <td>3.0</td>\n",
       "      <td>3</td>\n",
       "      <td>1033.0</td>\n",
       "      <td>...</td>\n",
       "      <td>1</td>\n",
       "      <td>0.000415</td>\n",
       "      <td>0.000000</td>\n",
       "      <td>0.000000</td>\n",
       "      <td>0.0000</td>\n",
       "      <td>0.009397</td>\n",
       "      <td>0.027579</td>\n",
       "      <td>0.103896</td>\n",
       "      <td>3.0</td>\n",
       "      <td>2G</td>\n",
       "    </tr>\n",
       "    <tr>\n",
       "      <th>3</th>\n",
       "      <td>01.08.01</td>\n",
       "      <td>4</td>\n",
       "      <td>2555</td>\n",
       "      <td>54</td>\n",
       "      <td>5</td>\n",
       "      <td>2</td>\n",
       "      <td>1</td>\n",
       "      <td>12.0</td>\n",
       "      <td>1</td>\n",
       "      <td>512.0</td>\n",
       "      <td>...</td>\n",
       "      <td>1</td>\n",
       "      <td>0.046510</td>\n",
       "      <td>0.039486</td>\n",
       "      <td>0.000829</td>\n",
       "      <td>0.0000</td>\n",
       "      <td>0.196676</td>\n",
       "      <td>0.027579</td>\n",
       "      <td>0.103896</td>\n",
       "      <td>1.0</td>\n",
       "      <td>3G</td>\n",
       "    </tr>\n",
       "    <tr>\n",
       "      <th>4</th>\n",
       "      <td>01.08.01</td>\n",
       "      <td>4</td>\n",
       "      <td>2291</td>\n",
       "      <td>38</td>\n",
       "      <td>5</td>\n",
       "      <td>2</td>\n",
       "      <td>1</td>\n",
       "      <td>7.0</td>\n",
       "      <td>1</td>\n",
       "      <td>1268.0</td>\n",
       "      <td>...</td>\n",
       "      <td>1</td>\n",
       "      <td>0.005393</td>\n",
       "      <td>0.007385</td>\n",
       "      <td>0.003884</td>\n",
       "      <td>0.0000</td>\n",
       "      <td>0.047297</td>\n",
       "      <td>0.027579</td>\n",
       "      <td>0.103896</td>\n",
       "      <td>6.0</td>\n",
       "      <td>2G</td>\n",
       "    </tr>\n",
       "  </tbody>\n",
       "</table>\n",
       "<p>5 rows × 37 columns</p>\n",
       "</div>"
      ],
      "text/plain": [
       "  SNAP_DATE  COM_CAT#1  SK_ID  COM_CAT#2  COM_CAT#3  BASE_TYPE  ACT  \\\n",
       "0  01.08.01          4   3339         80          5          2    1   \n",
       "1  01.08.01          4    238         75          5          2    1   \n",
       "2  01.08.01          4   4669         43          5          2    1   \n",
       "3  01.08.01          4   2555         54          5          2    1   \n",
       "4  01.08.01          4   2291         38          5          2    1   \n",
       "\n",
       "   ARPU_GROUP  COM_CAT#7  COM_CAT#8    ...      COM_CAT#26  COM_CAT#27  \\\n",
       "0        12.0          1     1489.0    ...               1    0.031696   \n",
       "1         7.0          1      945.0    ...               1    0.015893   \n",
       "2         3.0          3     1033.0    ...               1    0.000415   \n",
       "3        12.0          1      512.0    ...               1    0.046510   \n",
       "4         7.0          1     1268.0    ...               1    0.005393   \n",
       "\n",
       "   COM_CAT#28  COM_CAT#29  COM_CAT#30  COM_CAT#31  COM_CAT#32  COM_CAT#33  \\\n",
       "0    0.076724    0.040279      0.0133    0.083382    0.027579    0.103896   \n",
       "1    0.012981    0.000000      0.0000    0.048930    0.027579    0.103896   \n",
       "2    0.000000    0.000000      0.0000    0.009397    0.027579    0.103896   \n",
       "3    0.039486    0.000829      0.0000    0.196676    0.027579    0.103896   \n",
       "4    0.007385    0.003884      0.0000    0.047297    0.027579    0.103896   \n",
       "\n",
       "   COM_CAT#34  PHONE_GEN  \n",
       "0         2.0         4G  \n",
       "1         3.0         2G  \n",
       "2         3.0         2G  \n",
       "3         1.0         3G  \n",
       "4         6.0         2G  \n",
       "\n",
       "[5 rows x 37 columns]"
      ]
     },
     "execution_count": 71,
     "metadata": {},
     "output_type": "execute_result"
    }
   ],
   "source": [
    "subs_features.head()"
   ]
  },
  {
   "cell_type": "markdown",
   "metadata": {},
   "source": [
    "## Определение важных сот для абонента"
   ]
  },
  {
   "cell_type": "code",
   "execution_count": 72,
   "metadata": {
    "ExecuteTime": {
     "end_time": "2018-12-25T10:12:11.221752Z",
     "start_time": "2018-12-25T10:12:11.210924Z"
    }
   },
   "outputs": [
    {
     "data": {
      "text/html": [
       "<div>\n",
       "<style>\n",
       "    .dataframe thead tr:only-child th {\n",
       "        text-align: right;\n",
       "    }\n",
       "\n",
       "    .dataframe thead th {\n",
       "        text-align: left;\n",
       "    }\n",
       "\n",
       "    .dataframe tbody tr th {\n",
       "        vertical-align: top;\n",
       "    }\n",
       "</style>\n",
       "<table border=\"1\" class=\"dataframe\">\n",
       "  <thead>\n",
       "    <tr style=\"text-align: right;\">\n",
       "      <th></th>\n",
       "      <th>SK_ID</th>\n",
       "      <th>CELL_LAC_ID</th>\n",
       "      <th>MON</th>\n",
       "      <th>SUM_MINUTES</th>\n",
       "      <th>SUM_DATA_MB</th>\n",
       "      <th>SUM_DATA_MIN</th>\n",
       "    </tr>\n",
       "  </thead>\n",
       "  <tbody>\n",
       "    <tr>\n",
       "      <th>0</th>\n",
       "      <td>1827</td>\n",
       "      <td>240277</td>\n",
       "      <td>01.03</td>\n",
       "      <td>0.000000</td>\n",
       "      <td>0.000002</td>\n",
       "      <td>0.000234</td>\n",
       "    </tr>\n",
       "    <tr>\n",
       "      <th>1</th>\n",
       "      <td>1827</td>\n",
       "      <td>355195</td>\n",
       "      <td>01.03</td>\n",
       "      <td>0.000072</td>\n",
       "      <td>0.000000</td>\n",
       "      <td>0.000000</td>\n",
       "    </tr>\n",
       "    <tr>\n",
       "      <th>2</th>\n",
       "      <td>1827</td>\n",
       "      <td>238554</td>\n",
       "      <td>01.04</td>\n",
       "      <td>0.000000</td>\n",
       "      <td>0.000019</td>\n",
       "      <td>0.000326</td>\n",
       "    </tr>\n",
       "    <tr>\n",
       "      <th>3</th>\n",
       "      <td>1827</td>\n",
       "      <td>350978</td>\n",
       "      <td>01.04</td>\n",
       "      <td>0.016576</td>\n",
       "      <td>0.002260</td>\n",
       "      <td>0.004329</td>\n",
       "    </tr>\n",
       "    <tr>\n",
       "      <th>4</th>\n",
       "      <td>1827</td>\n",
       "      <td>315010</td>\n",
       "      <td>01.04</td>\n",
       "      <td>0.012755</td>\n",
       "      <td>0.001186</td>\n",
       "      <td>0.002491</td>\n",
       "    </tr>\n",
       "  </tbody>\n",
       "</table>\n",
       "</div>"
      ],
      "text/plain": [
       "   SK_ID  CELL_LAC_ID    MON  SUM_MINUTES  SUM_DATA_MB  SUM_DATA_MIN\n",
       "0   1827       240277  01.03     0.000000     0.000002      0.000234\n",
       "1   1827       355195  01.03     0.000072     0.000000      0.000000\n",
       "2   1827       238554  01.04     0.000000     0.000019      0.000326\n",
       "3   1827       350978  01.04     0.016576     0.002260      0.004329\n",
       "4   1827       315010  01.04     0.012755     0.001186      0.002491"
      ]
     },
     "execution_count": 72,
     "metadata": {},
     "output_type": "execute_result"
    }
   ],
   "source": [
    "subs_bs_consumption.head()"
   ]
  },
  {
   "cell_type": "markdown",
   "metadata": {},
   "source": [
    "Посмотрим, сколько сот бывает у абонентов."
   ]
  },
  {
   "cell_type": "code",
   "execution_count": 74,
   "metadata": {
    "ExecuteTime": {
     "end_time": "2018-12-25T10:12:27.517174Z",
     "start_time": "2018-12-25T10:12:26.125770Z"
    }
   },
   "outputs": [
    {
     "data": {
      "image/png": "[encoded data removed]",
      "text/plain": [
       "<matplotlib.figure.Figure at 0x7f3a72d8c748>"
      ]
     },
     "metadata": {},
     "output_type": "display_data"
    }
   ],
   "source": [
    "subs_bs_consumption.groupby('SK_ID')['CELL_LAC_ID'].nunique().value_counts().plot(kind='hist', bins=20);\n",
    "plt.title('Распределение количества сот у абонентов');\n",
    "plt.xlabel('Количество сот');\n",
    "plt.ylabel('Количество абонентов');"
   ]
  },
  {
   "cell_type": "markdown",
   "metadata": {},
   "source": [
    "Видно, что у большинства абонентов сот не так уж много. Посмотрим на нескольких абонентов."
   ]
  },
  {
   "cell_type": "markdown",
   "metadata": {},
   "source": [
    "Будем смотреть отдельно по минутам голоса, по трафику и по времени передачи данных."
   ]
  },
  {
   "cell_type": "code",
   "execution_count": 75,
   "metadata": {
    "ExecuteTime": {
     "end_time": "2018-12-25T10:13:03.938977Z",
     "start_time": "2018-12-25T10:13:02.539365Z"
    }
   },
   "outputs": [
    {
     "data": {
      "image/png": "[encoded data removed]",
      "text/plain": [
       "<matplotlib.figure.Figure at 0x7f3a72adddd8>"
      ]
     },
     "metadata": {},
     "output_type": "display_data"
    }
   ],
   "source": [
    "sk_id = 9086\n",
    "plt.figure(figsize=(10,25))\n",
    "\n",
    "plt.subplot(311)\n",
    "\n",
    "(subs_bs_consumption[(subs_bs_consumption['SK_ID']==sk_id)&(subs_bs_consumption['SUM_MINUTES'] > 0)]\n",
    "     .groupby('CELL_LAC_ID')\n",
    "     ['SUM_MINUTES']\n",
    "     .sum()\n",
    "     .sort_values(ascending=False)\n",
    "     .head(30)\n",
    "     .plot(kind='bar')\n",
    ")\n",
    "plt.xlabel('Сота')\n",
    "plt.ylabel('Голосовой трафик')\n",
    "plt.title(f'Голосовой трафик на сотах абонента {sk_id}');\n",
    "\n",
    "plt.subplot(312)\n",
    "(subs_bs_consumption[(subs_bs_consumption['SK_ID']==sk_id)&(subs_bs_consumption['SUM_DATA_MB'] > 0)]\n",
    "     .groupby('CELL_LAC_ID')\n",
    "     ['SUM_DATA_MB']\n",
    "     .sum()\n",
    "     .sort_values(ascending=False)\n",
    "     .head(30) \n",
    "     .plot(kind='bar')\n",
    ")\n",
    "plt.xlabel('Сота')\n",
    "plt.ylabel('Интернет-трафик')\n",
    "plt.title(f'Интернет-трафик на сотах абонента {sk_id}');\n",
    "\n",
    "plt.subplot(313)\n",
    "(subs_bs_consumption[(subs_bs_consumption['SK_ID']==sk_id)&(subs_bs_consumption['SUM_DATA_MIN'] > 0)]\n",
    "     .groupby('CELL_LAC_ID')\n",
    "     ['SUM_DATA_MIN']\n",
    "     .sum()\n",
    "     .sort_values(ascending=False)\n",
    "     .head(30) \n",
    "     .plot(kind='bar')\n",
    ")\n",
    "plt.xlabel('Сота')\n",
    "plt.ylabel('Время сессий интернет-трафика')\n",
    "plt.title(f'Время сессий интернет-трафика на сотах абонента {sk_id}');"
   ]
  },
  {
   "cell_type": "markdown",
   "metadata": {},
   "source": [
    "По этому абоненту мы видим, что основную голосовую активность абонент совершает на 4 сотах, а интернет-активность - на трех. При этом этот топ сот по интернет-трафику совпадает как по времени, так и по объему трафика. То есть больше всего абонент качает там, где он чаще бывает."
   ]
  },
  {
   "cell_type": "markdown",
   "metadata": {},
   "source": [
    "Возьмем теперь другого абонента."
   ]
  },
  {
   "cell_type": "code",
   "execution_count": 76,
   "metadata": {
    "ExecuteTime": {
     "end_time": "2018-12-25T10:13:23.275974Z",
     "start_time": "2018-12-25T10:13:22.110841Z"
    }
   },
   "outputs": [
    {
     "data": {
      "image/png": "[encoded data removed]",
      "text/plain": [
       "<matplotlib.figure.Figure at 0x7f3a72e7df98>"
      ]
     },
     "metadata": {},
     "output_type": "display_data"
    }
   ],
   "source": [
    "sk_id = 2381\n",
    "plt.figure(figsize=(10,25))\n",
    "\n",
    "plt.subplot(311)\n",
    "\n",
    "(subs_bs_consumption[(subs_bs_consumption['SK_ID']==sk_id)&(subs_bs_consumption['SUM_MINUTES'] > 0)]\n",
    "     .groupby('CELL_LAC_ID')\n",
    "     ['SUM_MINUTES']\n",
    "     .sum()\n",
    "     .sort_values(ascending=False)\n",
    "     .head(30)\n",
    "     .plot(kind='bar')\n",
    ")\n",
    "plt.xlabel('Сота')\n",
    "plt.ylabel('Голосовой трафик')\n",
    "plt.title(f'Голосовой трафик на сотах абонента {sk_id}');\n",
    "\n",
    "plt.subplot(312)\n",
    "(subs_bs_consumption[(subs_bs_consumption['SK_ID']==sk_id)&(subs_bs_consumption['SUM_DATA_MB'] > 0)]\n",
    "     .groupby('CELL_LAC_ID')\n",
    "     ['SUM_DATA_MB']\n",
    "     .sum()\n",
    "     .sort_values(ascending=False)\n",
    "     .head(30) \n",
    "     .plot(kind='bar')\n",
    ")\n",
    "plt.xlabel('Сота')\n",
    "plt.ylabel('Интернет-трафик')\n",
    "plt.title(f'Интернет-трафик на сотах абонента {sk_id}');\n",
    "\n",
    "plt.subplot(313)\n",
    "(subs_bs_consumption[(subs_bs_consumption['SK_ID']==sk_id)&(subs_bs_consumption['SUM_DATA_MIN'] > 0)]\n",
    "     .groupby('CELL_LAC_ID')\n",
    "     ['SUM_DATA_MIN']\n",
    "     .sum()\n",
    "     .sort_values(ascending=False)\n",
    "     .head(30) \n",
    "     .plot(kind='bar')\n",
    ")\n",
    "plt.xlabel('Сота')\n",
    "plt.ylabel('Время сессий интернет-трафика')\n",
    "plt.title(f'Время сессий интернет-трафика на сотах абонента {sk_id}');"
   ]
  },
  {
   "cell_type": "markdown",
   "metadata": {},
   "source": [
    "По этому абоненту выделяется приоритетная голосовая сота и несколько приоритетных сот по интернет-трафику. Но интересно то, что приоритет сот по трафику и по времени передачи данных не совпадает! То есть больше всего трафика абонент выкачал не там, где он больше всего пробыл, и наоборот - в тех местах, где он бывал долго, он не выкачал много трафика. Почему? Одно из возможных объяснений - недостаточное качество связи в тех местах, где он бывает часто. А это, как мы ожидаем, должно сказаться на его оценке CSI.\n",
    "\n",
    "Как еще можно оценить важность соты? Кроме общего количества времени или трафика на соте, можно учитывать, насколько часто абонент бывает на соте - каждый день, большую часть месяца или всего один или два раза? Эту информацю можно получить из таблиц `subs_bs_data_session` и `subs_bs_voice_session`."
   ]
  },
  {
   "cell_type": "markdown",
   "metadata": {},
   "source": [
    "## Попадание в неоптимальный слой"
   ]
  },
  {
   "cell_type": "markdown",
   "metadata": {},
   "source": [
    "Если у какого-то клиента есть телефон с поддержкой 4G, но по истории мы видим, что он часто качает трафик через соты 3G или даже 2G, как этот факт может влиять на его восприятие качества связи?"
   ]
  },
  {
   "cell_type": "markdown",
   "metadata": {},
   "source": [
    "Загрузим данные по интернет-сессиям."
   ]
  },
  {
   "cell_type": "code",
   "execution_count": 77,
   "metadata": {
    "ExecuteTime": {
     "end_time": "2018-12-25T10:14:12.479183Z",
     "start_time": "2018-12-25T10:14:07.384968Z"
    },
    "collapsed": true
   },
   "outputs": [],
   "source": [
    "subs_bs_data_session_train = pd.read_csv(os.path.join(PATH, 'subs_bs_data_session_train.csv'), sep=';', decimal=',')\n",
    "subs_bs_data_session_test = pd.read_csv(os.path.join(PATH, 'subs_bs_data_session_test.csv'), sep=';', decimal=',')"
   ]
  },
  {
   "cell_type": "code",
   "execution_count": 78,
   "metadata": {
    "ExecuteTime": {
     "end_time": "2018-12-25T10:14:23.156831Z",
     "start_time": "2018-12-25T10:14:22.900105Z"
    },
    "collapsed": true
   },
   "outputs": [],
   "source": [
    "subs_bs_data_session = pd.concat([subs_bs_data_session_train, subs_bs_data_session_test])"
   ]
  },
  {
   "cell_type": "code",
   "execution_count": 79,
   "metadata": {
    "ExecuteTime": {
     "end_time": "2018-12-25T10:14:23.747947Z",
     "start_time": "2018-12-25T10:14:23.737417Z"
    }
   },
   "outputs": [
    {
     "data": {
      "text/html": [
       "<div>\n",
       "<style>\n",
       "    .dataframe thead tr:only-child th {\n",
       "        text-align: right;\n",
       "    }\n",
       "\n",
       "    .dataframe thead th {\n",
       "        text-align: left;\n",
       "    }\n",
       "\n",
       "    .dataframe tbody tr th {\n",
       "        vertical-align: top;\n",
       "    }\n",
       "</style>\n",
       "<table border=\"1\" class=\"dataframe\">\n",
       "  <thead>\n",
       "    <tr style=\"text-align: right;\">\n",
       "      <th></th>\n",
       "      <th>SK_ID</th>\n",
       "      <th>CELL_LAC_ID</th>\n",
       "      <th>DATA_VOL_MB</th>\n",
       "      <th>START_TIME</th>\n",
       "    </tr>\n",
       "  </thead>\n",
       "  <tbody>\n",
       "    <tr>\n",
       "      <th>0</th>\n",
       "      <td>3853</td>\n",
       "      <td>61951</td>\n",
       "      <td>3.561184e-06</td>\n",
       "      <td>04.04 05:00:00</td>\n",
       "    </tr>\n",
       "    <tr>\n",
       "      <th>1</th>\n",
       "      <td>3853</td>\n",
       "      <td>61951</td>\n",
       "      <td>2.732445e-07</td>\n",
       "      <td>04.04 06:00:00</td>\n",
       "    </tr>\n",
       "    <tr>\n",
       "      <th>2</th>\n",
       "      <td>3853</td>\n",
       "      <td>61951</td>\n",
       "      <td>6.467041e-07</td>\n",
       "      <td>04.04 07:00:00</td>\n",
       "    </tr>\n",
       "    <tr>\n",
       "      <th>3</th>\n",
       "      <td>3853</td>\n",
       "      <td>61951</td>\n",
       "      <td>7.513883e-06</td>\n",
       "      <td>04.04 08:00:00</td>\n",
       "    </tr>\n",
       "    <tr>\n",
       "      <th>4</th>\n",
       "      <td>3853</td>\n",
       "      <td>61951</td>\n",
       "      <td>9.002802e-05</td>\n",
       "      <td>04.04 17:00:00</td>\n",
       "    </tr>\n",
       "  </tbody>\n",
       "</table>\n",
       "</div>"
      ],
      "text/plain": [
       "   SK_ID  CELL_LAC_ID   DATA_VOL_MB      START_TIME\n",
       "0   3853        61951  3.561184e-06  04.04 05:00:00\n",
       "1   3853        61951  2.732445e-07  04.04 06:00:00\n",
       "2   3853        61951  6.467041e-07  04.04 07:00:00\n",
       "3   3853        61951  7.513883e-06  04.04 08:00:00\n",
       "4   3853        61951  9.002802e-05  04.04 17:00:00"
      ]
     },
     "execution_count": 79,
     "metadata": {},
     "output_type": "execute_result"
    }
   ],
   "source": [
    "subs_bs_data_session.head()"
   ]
  },
  {
   "cell_type": "markdown",
   "metadata": {},
   "source": [
    "Выделим дату."
   ]
  },
  {
   "cell_type": "code",
   "execution_count": 80,
   "metadata": {
    "ExecuteTime": {
     "end_time": "2018-12-25T10:14:28.245795Z",
     "start_time": "2018-12-25T10:14:25.461767Z"
    },
    "collapsed": true
   },
   "outputs": [],
   "source": [
    "subs_bs_data_session['START_DATE'] = subs_bs_data_session['START_TIME'].str[:5]"
   ]
  },
  {
   "cell_type": "code",
   "execution_count": 81,
   "metadata": {
    "ExecuteTime": {
     "end_time": "2018-12-25T10:14:29.369838Z",
     "start_time": "2018-12-25T10:14:29.355935Z"
    }
   },
   "outputs": [
    {
     "data": {
      "text/html": [
       "<div>\n",
       "<style>\n",
       "    .dataframe thead tr:only-child th {\n",
       "        text-align: right;\n",
       "    }\n",
       "\n",
       "    .dataframe thead th {\n",
       "        text-align: left;\n",
       "    }\n",
       "\n",
       "    .dataframe tbody tr th {\n",
       "        vertical-align: top;\n",
       "    }\n",
       "</style>\n",
       "<table border=\"1\" class=\"dataframe\">\n",
       "  <thead>\n",
       "    <tr style=\"text-align: right;\">\n",
       "      <th></th>\n",
       "      <th>SK_ID</th>\n",
       "      <th>CELL_LAC_ID</th>\n",
       "      <th>DATA_VOL_MB</th>\n",
       "      <th>START_TIME</th>\n",
       "      <th>START_DATE</th>\n",
       "    </tr>\n",
       "  </thead>\n",
       "  <tbody>\n",
       "    <tr>\n",
       "      <th>0</th>\n",
       "      <td>3853</td>\n",
       "      <td>61951</td>\n",
       "      <td>3.561184e-06</td>\n",
       "      <td>04.04 05:00:00</td>\n",
       "      <td>04.04</td>\n",
       "    </tr>\n",
       "    <tr>\n",
       "      <th>1</th>\n",
       "      <td>3853</td>\n",
       "      <td>61951</td>\n",
       "      <td>2.732445e-07</td>\n",
       "      <td>04.04 06:00:00</td>\n",
       "      <td>04.04</td>\n",
       "    </tr>\n",
       "    <tr>\n",
       "      <th>2</th>\n",
       "      <td>3853</td>\n",
       "      <td>61951</td>\n",
       "      <td>6.467041e-07</td>\n",
       "      <td>04.04 07:00:00</td>\n",
       "      <td>04.04</td>\n",
       "    </tr>\n",
       "    <tr>\n",
       "      <th>3</th>\n",
       "      <td>3853</td>\n",
       "      <td>61951</td>\n",
       "      <td>7.513883e-06</td>\n",
       "      <td>04.04 08:00:00</td>\n",
       "      <td>04.04</td>\n",
       "    </tr>\n",
       "    <tr>\n",
       "      <th>4</th>\n",
       "      <td>3853</td>\n",
       "      <td>61951</td>\n",
       "      <td>9.002802e-05</td>\n",
       "      <td>04.04 17:00:00</td>\n",
       "      <td>04.04</td>\n",
       "    </tr>\n",
       "  </tbody>\n",
       "</table>\n",
       "</div>"
      ],
      "text/plain": [
       "   SK_ID  CELL_LAC_ID   DATA_VOL_MB      START_TIME START_DATE\n",
       "0   3853        61951  3.561184e-06  04.04 05:00:00      04.04\n",
       "1   3853        61951  2.732445e-07  04.04 06:00:00      04.04\n",
       "2   3853        61951  6.467041e-07  04.04 07:00:00      04.04\n",
       "3   3853        61951  7.513883e-06  04.04 08:00:00      04.04\n",
       "4   3853        61951  9.002802e-05  04.04 17:00:00      04.04"
      ]
     },
     "execution_count": 81,
     "metadata": {},
     "output_type": "execute_result"
    }
   ],
   "source": [
    "subs_bs_data_session.head()"
   ]
  },
  {
   "cell_type": "markdown",
   "metadata": {},
   "source": [
    "Добавим данные по поколениям сот."
   ]
  },
  {
   "cell_type": "code",
   "execution_count": 82,
   "metadata": {
    "ExecuteTime": {
     "end_time": "2018-12-25T10:14:35.048018Z",
     "start_time": "2018-12-25T10:14:33.575381Z"
    },
    "collapsed": true
   },
   "outputs": [],
   "source": [
    "subs_bs_data_session = subs_bs_data_session.merge(bs_gen.to_frame(name='GEN'), \n",
    "                                                  left_on='CELL_LAC_ID', \n",
    "                                                  right_index=True, \n",
    "                                                  how='left')"
   ]
  },
  {
   "cell_type": "code",
   "execution_count": 83,
   "metadata": {
    "ExecuteTime": {
     "end_time": "2018-12-25T10:14:36.069493Z",
     "start_time": "2018-12-25T10:14:36.057199Z"
    }
   },
   "outputs": [
    {
     "data": {
      "text/html": [
       "<div>\n",
       "<style>\n",
       "    .dataframe thead tr:only-child th {\n",
       "        text-align: right;\n",
       "    }\n",
       "\n",
       "    .dataframe thead th {\n",
       "        text-align: left;\n",
       "    }\n",
       "\n",
       "    .dataframe tbody tr th {\n",
       "        vertical-align: top;\n",
       "    }\n",
       "</style>\n",
       "<table border=\"1\" class=\"dataframe\">\n",
       "  <thead>\n",
       "    <tr style=\"text-align: right;\">\n",
       "      <th></th>\n",
       "      <th>SK_ID</th>\n",
       "      <th>CELL_LAC_ID</th>\n",
       "      <th>DATA_VOL_MB</th>\n",
       "      <th>START_TIME</th>\n",
       "      <th>START_DATE</th>\n",
       "      <th>GEN</th>\n",
       "    </tr>\n",
       "  </thead>\n",
       "  <tbody>\n",
       "    <tr>\n",
       "      <th>0</th>\n",
       "      <td>3853</td>\n",
       "      <td>61951</td>\n",
       "      <td>3.561184e-06</td>\n",
       "      <td>04.04 05:00:00</td>\n",
       "      <td>04.04</td>\n",
       "      <td>4g</td>\n",
       "    </tr>\n",
       "    <tr>\n",
       "      <th>1</th>\n",
       "      <td>3853</td>\n",
       "      <td>61951</td>\n",
       "      <td>2.732445e-07</td>\n",
       "      <td>04.04 06:00:00</td>\n",
       "      <td>04.04</td>\n",
       "      <td>4g</td>\n",
       "    </tr>\n",
       "    <tr>\n",
       "      <th>2</th>\n",
       "      <td>3853</td>\n",
       "      <td>61951</td>\n",
       "      <td>6.467041e-07</td>\n",
       "      <td>04.04 07:00:00</td>\n",
       "      <td>04.04</td>\n",
       "      <td>4g</td>\n",
       "    </tr>\n",
       "    <tr>\n",
       "      <th>3</th>\n",
       "      <td>3853</td>\n",
       "      <td>61951</td>\n",
       "      <td>7.513883e-06</td>\n",
       "      <td>04.04 08:00:00</td>\n",
       "      <td>04.04</td>\n",
       "      <td>4g</td>\n",
       "    </tr>\n",
       "    <tr>\n",
       "      <th>4</th>\n",
       "      <td>3853</td>\n",
       "      <td>61951</td>\n",
       "      <td>9.002802e-05</td>\n",
       "      <td>04.04 17:00:00</td>\n",
       "      <td>04.04</td>\n",
       "      <td>4g</td>\n",
       "    </tr>\n",
       "  </tbody>\n",
       "</table>\n",
       "</div>"
      ],
      "text/plain": [
       "   SK_ID  CELL_LAC_ID   DATA_VOL_MB      START_TIME START_DATE GEN\n",
       "0   3853        61951  3.561184e-06  04.04 05:00:00      04.04  4g\n",
       "1   3853        61951  2.732445e-07  04.04 06:00:00      04.04  4g\n",
       "2   3853        61951  6.467041e-07  04.04 07:00:00      04.04  4g\n",
       "3   3853        61951  7.513883e-06  04.04 08:00:00      04.04  4g\n",
       "4   3853        61951  9.002802e-05  04.04 17:00:00      04.04  4g"
      ]
     },
     "execution_count": 83,
     "metadata": {},
     "output_type": "execute_result"
    }
   ],
   "source": [
    "subs_bs_data_session.head()"
   ]
  },
  {
   "cell_type": "markdown",
   "metadata": {},
   "source": [
    "Посчитаем для каждого абонента объем трафика по поколениям сот, а также количество сессий и количество различных дней."
   ]
  },
  {
   "cell_type": "code",
   "execution_count": 84,
   "metadata": {
    "ExecuteTime": {
     "end_time": "2018-12-25T10:15:09.277921Z",
     "start_time": "2018-12-25T10:14:40.646879Z"
    },
    "collapsed": true
   },
   "outputs": [],
   "source": [
    "subs_gen_traffic = (subs_bs_data_session\n",
    "                         .groupby(['SK_ID', 'GEN'])\n",
    "                         ['DATA_VOL_MB', 'START_TIME', 'START_DATE']\n",
    "                         .agg({'DATA_VOL_MB':'sum',\n",
    "                               'START_TIME':'nunique',\n",
    "                               'START_DATE':'nunique'})\n",
    "                         .reset_index()\n",
    "                         .pivot_table(index='SK_ID', \n",
    "                                      columns='GEN', \n",
    "                                      values=['DATA_VOL_MB', 'START_TIME', 'START_DATE'], \n",
    "                                      fill_value=0)\n",
    "                    )"
   ]
  },
  {
   "cell_type": "code",
   "execution_count": 85,
   "metadata": {
    "ExecuteTime": {
     "end_time": "2018-12-25T10:15:11.532892Z",
     "start_time": "2018-12-25T10:15:11.528815Z"
    },
    "collapsed": true
   },
   "outputs": [],
   "source": [
    "subs_gen_traffic.columns=['DATA_VOL_2G', 'DATA_VOL_3G', 'DATA_VOL_4G',\n",
    "                          'CNT_DAYS_2G', 'CNT_DAYS_3G', 'CNT_DAYS_4G',\n",
    "                          'CNT_HOURS_2G', 'CNT_HOURS_3G', 'CNT_HOURS_4G'\n",
    "                         ]"
   ]
  },
  {
   "cell_type": "code",
   "execution_count": 86,
   "metadata": {
    "ExecuteTime": {
     "end_time": "2018-12-25T10:15:12.762562Z",
     "start_time": "2018-12-25T10:15:12.749663Z"
    }
   },
   "outputs": [
    {
     "data": {
      "text/html": [
       "<div>\n",
       "<style>\n",
       "    .dataframe thead tr:only-child th {\n",
       "        text-align: right;\n",
       "    }\n",
       "\n",
       "    .dataframe thead th {\n",
       "        text-align: left;\n",
       "    }\n",
       "\n",
       "    .dataframe tbody tr th {\n",
       "        vertical-align: top;\n",
       "    }\n",
       "</style>\n",
       "<table border=\"1\" class=\"dataframe\">\n",
       "  <thead>\n",
       "    <tr style=\"text-align: right;\">\n",
       "      <th></th>\n",
       "      <th>DATA_VOL_2G</th>\n",
       "      <th>DATA_VOL_3G</th>\n",
       "      <th>DATA_VOL_4G</th>\n",
       "      <th>CNT_DAYS_2G</th>\n",
       "      <th>CNT_DAYS_3G</th>\n",
       "      <th>CNT_DAYS_4G</th>\n",
       "      <th>CNT_HOURS_2G</th>\n",
       "      <th>CNT_HOURS_3G</th>\n",
       "      <th>CNT_HOURS_4G</th>\n",
       "    </tr>\n",
       "    <tr>\n",
       "      <th>SK_ID</th>\n",
       "      <th></th>\n",
       "      <th></th>\n",
       "      <th></th>\n",
       "      <th></th>\n",
       "      <th></th>\n",
       "      <th></th>\n",
       "      <th></th>\n",
       "      <th></th>\n",
       "      <th></th>\n",
       "    </tr>\n",
       "  </thead>\n",
       "  <tbody>\n",
       "    <tr>\n",
       "      <th>1</th>\n",
       "      <td>0.000078</td>\n",
       "      <td>0.263428</td>\n",
       "      <td>1.786628</td>\n",
       "      <td>2</td>\n",
       "      <td>31</td>\n",
       "      <td>52</td>\n",
       "      <td>3</td>\n",
       "      <td>114</td>\n",
       "      <td>459</td>\n",
       "    </tr>\n",
       "    <tr>\n",
       "      <th>2</th>\n",
       "      <td>0.001003</td>\n",
       "      <td>0.001133</td>\n",
       "      <td>0.065091</td>\n",
       "      <td>14</td>\n",
       "      <td>28</td>\n",
       "      <td>61</td>\n",
       "      <td>28</td>\n",
       "      <td>39</td>\n",
       "      <td>572</td>\n",
       "    </tr>\n",
       "    <tr>\n",
       "      <th>3</th>\n",
       "      <td>0.057598</td>\n",
       "      <td>0.001426</td>\n",
       "      <td>0.000974</td>\n",
       "      <td>49</td>\n",
       "      <td>7</td>\n",
       "      <td>8</td>\n",
       "      <td>784</td>\n",
       "      <td>32</td>\n",
       "      <td>70</td>\n",
       "    </tr>\n",
       "    <tr>\n",
       "      <th>5</th>\n",
       "      <td>0.180218</td>\n",
       "      <td>2.863250</td>\n",
       "      <td>0.098606</td>\n",
       "      <td>61</td>\n",
       "      <td>62</td>\n",
       "      <td>11</td>\n",
       "      <td>423</td>\n",
       "      <td>1119</td>\n",
       "      <td>75</td>\n",
       "    </tr>\n",
       "    <tr>\n",
       "      <th>7</th>\n",
       "      <td>0.011367</td>\n",
       "      <td>0.640451</td>\n",
       "      <td>0.204067</td>\n",
       "      <td>47</td>\n",
       "      <td>62</td>\n",
       "      <td>13</td>\n",
       "      <td>120</td>\n",
       "      <td>1248</td>\n",
       "      <td>199</td>\n",
       "    </tr>\n",
       "  </tbody>\n",
       "</table>\n",
       "</div>"
      ],
      "text/plain": [
       "       DATA_VOL_2G  DATA_VOL_3G  DATA_VOL_4G  CNT_DAYS_2G  CNT_DAYS_3G  \\\n",
       "SK_ID                                                                    \n",
       "1         0.000078     0.263428     1.786628            2           31   \n",
       "2         0.001003     0.001133     0.065091           14           28   \n",
       "3         0.057598     0.001426     0.000974           49            7   \n",
       "5         0.180218     2.863250     0.098606           61           62   \n",
       "7         0.011367     0.640451     0.204067           47           62   \n",
       "\n",
       "       CNT_DAYS_4G  CNT_HOURS_2G  CNT_HOURS_3G  CNT_HOURS_4G  \n",
       "SK_ID                                                         \n",
       "1               52             3           114           459  \n",
       "2               61            28            39           572  \n",
       "3                8           784            32            70  \n",
       "5               11           423          1119            75  \n",
       "7               13           120          1248           199  "
      ]
     },
     "execution_count": 86,
     "metadata": {},
     "output_type": "execute_result"
    }
   ],
   "source": [
    "subs_gen_traffic.head()"
   ]
  },
  {
   "cell_type": "markdown",
   "metadata": {},
   "source": [
    "У нас уже известны поколения телефонов для каждого абонента. Для простоты возьмем поколение последнего известного телефона абонента. Заодно посчитаем среднюю выручку абонента."
   ]
  },
  {
   "cell_type": "code",
   "execution_count": 87,
   "metadata": {
    "ExecuteTime": {
     "end_time": "2018-12-25T10:15:19.422453Z",
     "start_time": "2018-12-25T10:15:19.328768Z"
    },
    "collapsed": true
   },
   "outputs": [],
   "source": [
    "subs_features_agg = (subs_features\n",
    "                         .groupby('SK_ID')\n",
    "                         ['REVENUE', 'PHONE_GEN']\n",
    "                         .agg({'REVENUE':[np.size, np.mean], 'PHONE_GEN':'last'})\n",
    "                         .reset_index())"
   ]
  },
  {
   "cell_type": "code",
   "execution_count": 88,
   "metadata": {
    "ExecuteTime": {
     "end_time": "2018-12-25T10:15:20.812866Z",
     "start_time": "2018-12-25T10:15:20.809711Z"
    },
    "collapsed": true
   },
   "outputs": [],
   "source": [
    "subs_features_agg.columns = ['SK_ID', 'CNT_MONTHS', 'AVG_REVENUE', 'PHONE_GEN']"
   ]
  },
  {
   "cell_type": "code",
   "execution_count": 89,
   "metadata": {
    "ExecuteTime": {
     "end_time": "2018-12-25T10:15:21.934558Z",
     "start_time": "2018-12-25T10:15:21.925097Z"
    }
   },
   "outputs": [
    {
     "data": {
      "text/html": [
       "<div>\n",
       "<style>\n",
       "    .dataframe thead tr:only-child th {\n",
       "        text-align: right;\n",
       "    }\n",
       "\n",
       "    .dataframe thead th {\n",
       "        text-align: left;\n",
       "    }\n",
       "\n",
       "    .dataframe tbody tr th {\n",
       "        vertical-align: top;\n",
       "    }\n",
       "</style>\n",
       "<table border=\"1\" class=\"dataframe\">\n",
       "  <thead>\n",
       "    <tr style=\"text-align: right;\">\n",
       "      <th></th>\n",
       "      <th>SK_ID</th>\n",
       "      <th>CNT_MONTHS</th>\n",
       "      <th>AVG_REVENUE</th>\n",
       "      <th>PHONE_GEN</th>\n",
       "    </tr>\n",
       "  </thead>\n",
       "  <tbody>\n",
       "    <tr>\n",
       "      <th>0</th>\n",
       "      <td>1</td>\n",
       "      <td>12.0</td>\n",
       "      <td>0.144715</td>\n",
       "      <td>4G</td>\n",
       "    </tr>\n",
       "    <tr>\n",
       "      <th>1</th>\n",
       "      <td>2</td>\n",
       "      <td>5.0</td>\n",
       "      <td>0.128128</td>\n",
       "      <td>4G</td>\n",
       "    </tr>\n",
       "    <tr>\n",
       "      <th>2</th>\n",
       "      <td>3</td>\n",
       "      <td>9.0</td>\n",
       "      <td>0.133601</td>\n",
       "      <td>4G</td>\n",
       "    </tr>\n",
       "    <tr>\n",
       "      <th>3</th>\n",
       "      <td>4</td>\n",
       "      <td>12.0</td>\n",
       "      <td>0.118478</td>\n",
       "      <td>2G</td>\n",
       "    </tr>\n",
       "    <tr>\n",
       "      <th>4</th>\n",
       "      <td>5</td>\n",
       "      <td>12.0</td>\n",
       "      <td>0.129951</td>\n",
       "      <td>4G</td>\n",
       "    </tr>\n",
       "  </tbody>\n",
       "</table>\n",
       "</div>"
      ],
      "text/plain": [
       "   SK_ID  CNT_MONTHS  AVG_REVENUE PHONE_GEN\n",
       "0      1        12.0     0.144715        4G\n",
       "1      2         5.0     0.128128        4G\n",
       "2      3         9.0     0.133601        4G\n",
       "3      4        12.0     0.118478        2G\n",
       "4      5        12.0     0.129951        4G"
      ]
     },
     "execution_count": 89,
     "metadata": {},
     "output_type": "execute_result"
    }
   ],
   "source": [
    "subs_features_agg.head()"
   ]
  },
  {
   "cell_type": "markdown",
   "metadata": {},
   "source": [
    "Загрузим данные по ответам (для трейна и для теста)."
   ]
  },
  {
   "cell_type": "code",
   "execution_count": 90,
   "metadata": {
    "ExecuteTime": {
     "end_time": "2018-12-25T10:15:28.412841Z",
     "start_time": "2018-12-25T10:15:28.376361Z"
    },
    "collapsed": true
   },
   "outputs": [],
   "source": [
    "subs_csi_train = pd.read_csv(os.path.join(PATH, 'subs_csi_train.csv'), sep=';', decimal=',')"
   ]
  },
  {
   "cell_type": "markdown",
   "metadata": {},
   "source": [
    "Соединим таблицы."
   ]
  },
  {
   "cell_type": "code",
   "execution_count": 91,
   "metadata": {
    "ExecuteTime": {
     "end_time": "2018-12-25T10:15:30.696441Z",
     "start_time": "2018-12-25T10:15:30.685649Z"
    },
    "collapsed": true
   },
   "outputs": [],
   "source": [
    "data_subs = (subs_csi_train\n",
    "                .merge(subs_features_agg, on='SK_ID')\n",
    "                .merge(subs_gen_traffic, left_on='SK_ID', right_index=True))"
   ]
  },
  {
   "cell_type": "code",
   "execution_count": 92,
   "metadata": {
    "ExecuteTime": {
     "end_time": "2018-12-25T10:15:31.478026Z",
     "start_time": "2018-12-25T10:15:31.459947Z"
    }
   },
   "outputs": [
    {
     "data": {
      "text/html": [
       "<div>\n",
       "<style>\n",
       "    .dataframe thead tr:only-child th {\n",
       "        text-align: right;\n",
       "    }\n",
       "\n",
       "    .dataframe thead th {\n",
       "        text-align: left;\n",
       "    }\n",
       "\n",
       "    .dataframe tbody tr th {\n",
       "        vertical-align: top;\n",
       "    }\n",
       "</style>\n",
       "<table border=\"1\" class=\"dataframe\">\n",
       "  <thead>\n",
       "    <tr style=\"text-align: right;\">\n",
       "      <th></th>\n",
       "      <th>SK_ID</th>\n",
       "      <th>CSI</th>\n",
       "      <th>CONTACT_DATE</th>\n",
       "      <th>CNT_MONTHS</th>\n",
       "      <th>AVG_REVENUE</th>\n",
       "      <th>PHONE_GEN</th>\n",
       "      <th>DATA_VOL_2G</th>\n",
       "      <th>DATA_VOL_3G</th>\n",
       "      <th>DATA_VOL_4G</th>\n",
       "      <th>CNT_DAYS_2G</th>\n",
       "      <th>CNT_DAYS_3G</th>\n",
       "      <th>CNT_DAYS_4G</th>\n",
       "      <th>CNT_HOURS_2G</th>\n",
       "      <th>CNT_HOURS_3G</th>\n",
       "      <th>CNT_HOURS_4G</th>\n",
       "    </tr>\n",
       "  </thead>\n",
       "  <tbody>\n",
       "    <tr>\n",
       "      <th>0</th>\n",
       "      <td>2</td>\n",
       "      <td>0</td>\n",
       "      <td>04.05</td>\n",
       "      <td>5.0</td>\n",
       "      <td>0.128128</td>\n",
       "      <td>4G</td>\n",
       "      <td>0.001003</td>\n",
       "      <td>0.001133</td>\n",
       "      <td>0.065091</td>\n",
       "      <td>14</td>\n",
       "      <td>28</td>\n",
       "      <td>61</td>\n",
       "      <td>28</td>\n",
       "      <td>39</td>\n",
       "      <td>572</td>\n",
       "    </tr>\n",
       "    <tr>\n",
       "      <th>1</th>\n",
       "      <td>3</td>\n",
       "      <td>0</td>\n",
       "      <td>21.05</td>\n",
       "      <td>9.0</td>\n",
       "      <td>0.133601</td>\n",
       "      <td>4G</td>\n",
       "      <td>0.057598</td>\n",
       "      <td>0.001426</td>\n",
       "      <td>0.000974</td>\n",
       "      <td>49</td>\n",
       "      <td>7</td>\n",
       "      <td>8</td>\n",
       "      <td>784</td>\n",
       "      <td>32</td>\n",
       "      <td>70</td>\n",
       "    </tr>\n",
       "    <tr>\n",
       "      <th>3</th>\n",
       "      <td>5</td>\n",
       "      <td>0</td>\n",
       "      <td>08.05</td>\n",
       "      <td>12.0</td>\n",
       "      <td>0.129951</td>\n",
       "      <td>4G</td>\n",
       "      <td>0.180218</td>\n",
       "      <td>2.863250</td>\n",
       "      <td>0.098606</td>\n",
       "      <td>61</td>\n",
       "      <td>62</td>\n",
       "      <td>11</td>\n",
       "      <td>423</td>\n",
       "      <td>1119</td>\n",
       "      <td>75</td>\n",
       "    </tr>\n",
       "    <tr>\n",
       "      <th>5</th>\n",
       "      <td>7</td>\n",
       "      <td>0</td>\n",
       "      <td>03.05</td>\n",
       "      <td>12.0</td>\n",
       "      <td>0.134504</td>\n",
       "      <td>4G</td>\n",
       "      <td>0.011367</td>\n",
       "      <td>0.640451</td>\n",
       "      <td>0.204067</td>\n",
       "      <td>47</td>\n",
       "      <td>62</td>\n",
       "      <td>13</td>\n",
       "      <td>120</td>\n",
       "      <td>1248</td>\n",
       "      <td>199</td>\n",
       "    </tr>\n",
       "    <tr>\n",
       "      <th>7</th>\n",
       "      <td>9</td>\n",
       "      <td>0</td>\n",
       "      <td>29.05</td>\n",
       "      <td>12.0</td>\n",
       "      <td>0.110662</td>\n",
       "      <td>4G</td>\n",
       "      <td>0.000013</td>\n",
       "      <td>0.000024</td>\n",
       "      <td>0.000000</td>\n",
       "      <td>1</td>\n",
       "      <td>3</td>\n",
       "      <td>0</td>\n",
       "      <td>1</td>\n",
       "      <td>3</td>\n",
       "      <td>0</td>\n",
       "    </tr>\n",
       "  </tbody>\n",
       "</table>\n",
       "</div>"
      ],
      "text/plain": [
       "   SK_ID  CSI CONTACT_DATE  CNT_MONTHS  AVG_REVENUE PHONE_GEN  DATA_VOL_2G  \\\n",
       "0      2    0        04.05         5.0     0.128128        4G     0.001003   \n",
       "1      3    0        21.05         9.0     0.133601        4G     0.057598   \n",
       "3      5    0        08.05        12.0     0.129951        4G     0.180218   \n",
       "5      7    0        03.05        12.0     0.134504        4G     0.011367   \n",
       "7      9    0        29.05        12.0     0.110662        4G     0.000013   \n",
       "\n",
       "   DATA_VOL_3G  DATA_VOL_4G  CNT_DAYS_2G  CNT_DAYS_3G  CNT_DAYS_4G  \\\n",
       "0     0.001133     0.065091           14           28           61   \n",
       "1     0.001426     0.000974           49            7            8   \n",
       "3     2.863250     0.098606           61           62           11   \n",
       "5     0.640451     0.204067           47           62           13   \n",
       "7     0.000024     0.000000            1            3            0   \n",
       "\n",
       "   CNT_HOURS_2G  CNT_HOURS_3G  CNT_HOURS_4G  \n",
       "0            28            39           572  \n",
       "1           784            32            70  \n",
       "3           423          1119            75  \n",
       "5           120          1248           199  \n",
       "7             1             3             0  "
      ]
     },
     "execution_count": 92,
     "metadata": {},
     "output_type": "execute_result"
    }
   ],
   "source": [
    "data_subs.head()"
   ]
  },
  {
   "cell_type": "markdown",
   "metadata": {},
   "source": [
    "Возьмем абонентов с телефонами 4G."
   ]
  },
  {
   "cell_type": "code",
   "execution_count": 93,
   "metadata": {
    "ExecuteTime": {
     "end_time": "2018-12-25T10:15:35.732197Z",
     "start_time": "2018-12-25T10:15:35.727103Z"
    },
    "collapsed": true
   },
   "outputs": [],
   "source": [
    "subs_4g = data_subs[data_subs['PHONE_GEN'] == '4G']"
   ]
  },
  {
   "cell_type": "markdown",
   "metadata": {},
   "source": [
    "Посмотрим, как часто попадают в сеть 2G довольные и недовольные абоненты."
   ]
  },
  {
   "cell_type": "code",
   "execution_count": 94,
   "metadata": {
    "ExecuteTime": {
     "end_time": "2018-12-25T10:15:37.922588Z",
     "start_time": "2018-12-25T10:15:37.766375Z"
    }
   },
   "outputs": [
    {
     "data": {
      "image/png": "[encoded data removed]",
      "text/plain": [
       "<matplotlib.figure.Figure at 0x7f3a75241f98>"
      ]
     },
     "metadata": {},
     "output_type": "display_data"
    }
   ],
   "source": [
    "subs_4g.groupby('CSI')['CNT_HOURS_2G'].mean().plot(kind='bar');\n",
    "plt.ylabel('Количество попаданий в слой 2G');\n",
    "plt.title('Попадания в слой 2G абонентов с телефонами 4G');\n",
    "plt.xticks([0,1], ['Доволен', 'Недоволен']);"
   ]
  },
  {
   "cell_type": "markdown",
   "metadata": {},
   "source": [
    "По графику видно, что у недовольных абоненты в среднем количество попаданий в слой 2G выше, чем у довольных. То есть этот признак можно считать неплохой фичей для предсказания удовлетворенности абонентов."
   ]
  },
  {
   "cell_type": "markdown",
   "metadata": {
    "collapsed": true
   },
   "source": [
    "Надо сделать замечание, что здесь мы смотрели только абонентов, пользующихся передачей данных. Если абонент пользуется только голосом, для него по большому счету не должно быть разницы, в каком поколении сети он находится. Возможно, по таким абонентам стоит сделать отдельную модель."
   ]
  },
  {
   "cell_type": "code",
   "execution_count": null,
   "metadata": {
    "collapsed": true
   },
   "outputs": [],
   "source": []
  },
  {
   "cell_type": "code",
   "execution_count": null,
   "metadata": {
    "collapsed": true
   },
   "outputs": [],
   "source": []
  }
 ],
 "metadata": {
  "kernelspec": {
   "display_name": "Anaconda's Python 3",
   "language": "python",
   "name": "anaconda3"
  },
  "language_info": {
   "codemirror_mode": {
    "name": "ipython",
    "version": 3
   },
   "file_extension": ".py",
   "mimetype": "text/x-python",
   "name": "python",
   "nbconvert_exporter": "python",
   "pygments_lexer": "ipython3",
   "version": "3.6.6"
  },
  "toc": {
   "nav_menu": {},
   "number_sections": false,
   "sideBar": true,
   "skip_h1_title": false,
   "toc_cell": false,
   "toc_position": {
    "height": "676px",
    "left": "0px",
    "right": "1324px",
    "top": "107px",
    "width": "212px"
   },
   "toc_section_display": "block",
   "toc_window_display": false
  }
 },
 "nbformat": 4,
 "nbformat_minor": 2
}
